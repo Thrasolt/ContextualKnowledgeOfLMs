{
 "cells": [
  {
   "cell_type": "code",
   "execution_count": 1,
   "id": "bc21928c-3afd-40d1-acc8-5455f88b2265",
   "metadata": {},
   "outputs": [],
   "source": [
    "import torch\n",
    "from transformers import logging\n",
    "from transformers import pipeline\n",
    "from transformers import BertTokenizer, BertModel\n"
   ]
  },
  {
   "cell_type": "code",
   "execution_count": null,
   "id": "3e910815-abab-4dc9-a931-b20fbfa282f6",
   "metadata": {},
   "outputs": [],
   "source": [
    "logging.set_verbosity_error()"
   ]
  },
  {
   "cell_type": "code",
   "execution_count": null,
   "id": "caad7ba3-7c34-44e3-83f4-2b9d5e561c17",
   "metadata": {},
   "outputs": [],
   "source": [
    "#model = torch.hub.load('huggingface/pytorch-transformers', 'model', 'bert-base-uncased');"
   ]
  },
  {
   "cell_type": "code",
   "execution_count": 2,
   "id": "cb64c45d",
   "metadata": {
    "collapsed": false,
    "jupyter": {
     "outputs_hidden": false
    },
    "pycharm": {
     "name": "#%%\n"
    }
   },
   "outputs": [],
   "source": [
    "from LamaTRExData import LamaTRExData\n",
    "from LamaPrompts import LamaPrompts"
   ]
  },
  {
   "cell_type": "code",
   "execution_count": 3,
   "id": "4c9f6ca2",
   "metadata": {
    "collapsed": false,
    "jupyter": {
     "outputs_hidden": false
    },
    "pycharm": {
     "name": "#%%\n"
    }
   },
   "outputs": [],
   "source": [
    "train_data = LamaTRExData()\n",
    "train_data.load()"
   ]
  },
  {
   "cell_type": "code",
   "execution_count": 4,
   "id": "59977a10-0be5-4ac2-aa57-4a2075db4d51",
   "metadata": {},
   "outputs": [],
   "source": [
    "test_data = LamaTRExData(train=False)\n",
    "test_data.load()"
   ]
  },
  {
   "cell_type": "code",
   "execution_count": 5,
   "id": "9140a3de-b53f-426b-b842-6ec323bfbe65",
   "metadata": {},
   "outputs": [],
   "source": [
    "lama_prompts = LamaPrompts()\n",
    "lama_prompts.load()"
   ]
  },
  {
   "cell_type": "code",
   "execution_count": 8,
   "id": "30818bff-6acd-4891-956a-bc7f4e2bc3c9",
   "metadata": {},
   "outputs": [],
   "source": [
    "prompts = lama_prompts.generate_prompts(\"mine\",\"P1001\", \"Eibenstock\")"
   ]
  },
  {
   "cell_type": "code",
   "execution_count": 9,
   "id": "4311f182-a0a3-4355-8cd5-28bb3ab202b2",
   "metadata": {
    "pycharm": {
     "name": "#%% md\n"
    }
   },
   "outputs": [
    {
     "data": {
      "text/plain": [
       "[('Eibenstock in the australian [MASK] .', 8.354534656973556e-05),\n",
       " ('Eibenstock of morbihan association insee [MASK] .', 8.878420339897275e-05),\n",
       " ('Eibenstock in the australian state of [MASK] .', 0.003165333066135645),\n",
       " ('[MASK] politician and Eibenstock .', 5.547934051719494e-05),\n",
       " ('Eibenstock legislative district maps from the [MASK] .',\n",
       "  8.395109762204811e-05),\n",
       " ('[MASK] politician and former Eibenstock .', 5.053305358160287e-05),\n",
       " ('Eibenstock constituencies of [MASK] .', 0.3337858319282532),\n",
       " ('Eibenstock of the province of [MASK] .', 0.0007354513509199023),\n",
       " ('[MASK] that elects members to the Eibenstock .', 8.338198676938191e-05),\n",
       " ('Eibenstock of the holy [MASK] .', 9.58711389102973e-05),\n",
       " ('Eibenstock of the new [MASK] .', 7.56185909267515e-05),\n",
       " ('[MASK] elects a Eibenstock .', 0.0012318488443270326),\n",
       " ('[MASK] politician and a former Eibenstock .', 6.037272760295309e-05),\n",
       " ('[MASK] who served in the Eibenstock .', 0.00010432691487949342),\n",
       " ('Eibenstock electorate in the state of [MASK] .', 0.0005336179165169597),\n",
       " ('Eibenstock were allocated to [MASK] .', 0.0699446052312851),\n",
       " ('[MASK] volleyball body Eibenstock .', 0.00019172823522239923),\n",
       " ('Eibenstock leader of the opposition ( [MASK] .', 8.236098074121401e-05),\n",
       " ('[MASK] who served as a republican Eibenstock .', 9.111833787756041e-05),\n",
       " ('Eibenstock of the medical [MASK] .', 9.48587476159446e-05),\n",
       " ('[MASK] habitats Eibenstock .', 8.449710730928928e-05),\n",
       " ('Eibenstock constituencies of the [MASK] .', 0.00012714827607851475),\n",
       " ('Eibenstock of the law [MASK] .', 9.818458056543022e-05),\n",
       " ('[MASK] politician who served in the Eibenstock .', 6.743010453647003e-05),\n",
       " ('Eibenstock representing [MASK] .', 0.5886460542678833),\n",
       " ('[MASK] politician and a Eibenstock .', 7.011291745584458e-05),\n",
       " ('Eibenstock of nazi [MASK] .', 8.127887122100219e-05),\n",
       " ('Eibenstock website [MASK] .', 8.431053720414639e-05),\n",
       " ('[MASK] elections for the Eibenstock .', 0.00010233476496068761)]"
      ]
     },
     "execution_count": 9,
     "metadata": {},
     "output_type": "execute_result"
    }
   ],
   "source": [
    "prompts"
   ]
  },
  {
   "cell_type": "code",
   "execution_count": 11,
   "id": "5a7e4db3-4cb4-48cb-ac5c-0502996b55f9",
   "metadata": {},
   "outputs": [],
   "source": [
    "tokenizer = BertTokenizer.from_pretrained('bert-base-uncased')\n",
    "model = BertModel.from_pretrained(\"bert-base-uncased\")"
   ]
  },
  {
   "cell_type": "markdown",
   "id": "eb91df1f-7b66-4797-8c08-90e705b09d23",
   "metadata": {},
   "source": [
    "text = \"Replace me by any text you'd like.\"\n",
    "encoded_input = tokenizer(text, return_tensors='pt')\n",
    "output = model(**encoded_input)"
   ]
  },
  {
   "cell_type": "code",
   "execution_count": 12,
   "id": "77abb217-9edd-4870-9ab3-cb0fc29c7ae3",
   "metadata": {},
   "outputs": [
    {
     "data": {
      "text/plain": [
       "[{'score': 0.9771938323974609,\n",
       "  'token': 2762,\n",
       "  'token_str': 'germany',\n",
       "  'sequence': 'eibenstock of nazi germany.'},\n",
       " {'score': 0.011544887907803059,\n",
       "  'token': 2283,\n",
       "  'token_str': 'party',\n",
       "  'sequence': 'eibenstock of nazi party.'},\n",
       " {'score': 0.000872790056746453,\n",
       "  'token': 7020,\n",
       "  'token_str': 'ss',\n",
       "  'sequence': 'eibenstock of nazi ss.'},\n",
       " {'score': 0.0004714657843578607,\n",
       "  'token': 6939,\n",
       "  'token_str': 'regime',\n",
       "  'sequence': 'eibenstock of nazi regime.'},\n",
       " {'score': 0.0004505674878600985,\n",
       "  'token': 7404,\n",
       "  'token_str': 'terror',\n",
       "  'sequence': 'eibenstock of nazi terror.'}]"
      ]
     },
     "execution_count": 12,
     "metadata": {},
     "output_type": "execute_result"
    }
   ],
   "source": [
    "unmasker = pipeline('fill-mask', model='bert-base-uncased')\n",
    "unmasker(\"Eibenstock of nazi [MASK].\")"
   ]
  },
  {
   "cell_type": "code",
   "execution_count": null,
   "id": "376ff618-4f4b-4755-8759-0de7075b5a48",
   "metadata": {},
   "outputs": [],
   "source": []
  }
 ],
 "metadata": {
  "kernelspec": {
   "display_name": "Python 3 (ipykernel)",
   "language": "python",
   "name": "python3"
  },
  "language_info": {
   "codemirror_mode": {
    "name": "ipython",
    "version": 3
   },
   "file_extension": ".py",
   "mimetype": "text/x-python",
   "name": "python",
   "nbconvert_exporter": "python",
   "pygments_lexer": "ipython3",
   "version": "3.8.9"
  }
 },
 "nbformat": 4,
 "nbformat_minor": 5
}
