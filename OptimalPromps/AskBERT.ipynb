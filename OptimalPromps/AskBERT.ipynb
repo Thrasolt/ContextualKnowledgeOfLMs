{
 "cells": [
  {
   "cell_type": "code",
   "execution_count": 1,
   "id": "bc21928c-3afd-40d1-acc8-5455f88b2265",
   "metadata": {},
   "outputs": [],
   "source": [
    "import torch\n",
    "import torch.optim as optim\n",
    "import torch.nn as nn\n",
    "from torch.utils.data import DataLoader\n",
    "from transformers import logging\n",
    "from transformers import pipeline\n",
    "from transformers import BertTokenizer, BertModel\n",
    "from tqdm import tqdm\n",
    "from Timer import Timer"
   ]
  },
  {
   "cell_type": "code",
   "execution_count": 2,
   "id": "cacab846-403d-4ad1-ae72-727a1f1211dd",
   "metadata": {},
   "outputs": [],
   "source": [
    "BATCH_SIZE = 5\n",
    "EPOCHS = 1"
   ]
  },
  {
   "cell_type": "code",
   "execution_count": null,
   "id": "19cb1663",
   "metadata": {
    "collapsed": false,
    "jupyter": {
     "outputs_hidden": false
    },
    "pycharm": {
     "name": "#%%\n"
    }
   },
   "outputs": [],
   "source": []
  },
  {
   "cell_type": "code",
   "execution_count": 3,
   "id": "3e910815-abab-4dc9-a931-b20fbfa282f6",
   "metadata": {},
   "outputs": [],
   "source": [
    "logging.set_verbosity_error()"
   ]
  },
  {
   "cell_type": "code",
   "execution_count": 4,
   "id": "caad7ba3-7c34-44e3-83f4-2b9d5e561c17",
   "metadata": {},
   "outputs": [],
   "source": [
    "#model = torch.hub.load('huggingface/pytorch-transformers', 'model', 'bert-base-uncased');"
   ]
  },
  {
   "cell_type": "code",
   "execution_count": 5,
   "id": "cb64c45d",
   "metadata": {
    "collapsed": false,
    "jupyter": {
     "outputs_hidden": false
    },
    "pycharm": {
     "name": "#%%\n"
    }
   },
   "outputs": [],
   "source": [
    "from LamaTRExData import LamaTRExData\n",
    "from LamaPrompts import LamaPrompts\n",
    "from PromptModel import PromptModel, BERT_VOCAB_SIZE"
   ]
  },
  {
   "cell_type": "code",
   "execution_count": 6,
   "id": "4c9f6ca2",
   "metadata": {
    "collapsed": false,
    "jupyter": {
     "outputs_hidden": false
    },
    "pycharm": {
     "name": "#%%\n"
    }
   },
   "outputs": [],
   "source": [
    "train_data = LamaTRExData()\n",
    "train_data.load()\n",
    "train_dataloader = DataLoader(train_data.data_set, batch_size=BATCH_SIZE, shuffle=True, num_workers=4)"
   ]
  },
  {
   "cell_type": "code",
   "execution_count": 7,
   "id": "59977a10-0be5-4ac2-aa57-4a2075db4d51",
   "metadata": {},
   "outputs": [],
   "source": [
    "test_data = LamaTRExData(train=False)\n",
    "test_data.load()"
   ]
  },
  {
   "cell_type": "code",
   "execution_count": 8,
   "id": "9140a3de-b53f-426b-b842-6ec323bfbe65",
   "metadata": {},
   "outputs": [],
   "source": [
    "lama_prompts = LamaPrompts()\n",
    "lama_prompts.load()"
   ]
  },
  {
   "cell_type": "code",
   "execution_count": 9,
   "id": "30818bff-6acd-4891-956a-bc7f4e2bc3c9",
   "metadata": {},
   "outputs": [],
   "source": [
    "prompts = [prmpt for prmpt, _ in lama_prompts.generate_for_rel(\"mine\",\"P1001\", \"Eibenstock\")]"
   ]
  },
  {
   "cell_type": "code",
   "execution_count": 10,
   "id": "5a7e4db3-4cb4-48cb-ac5c-0502996b55f9",
   "metadata": {},
   "outputs": [],
   "source": [
    "tokenizer = BertTokenizer.from_pretrained('bert-base-uncased')\n",
    "model = BertModel.from_pretrained(\"bert-base-uncased\")"
   ]
  },
  {
   "cell_type": "code",
   "execution_count": 11,
   "id": "2ef28541-7062-4428-8ec4-6a9d2f399584",
   "metadata": {},
   "outputs": [],
   "source": [
    "unmasker = pipeline('fill-mask', model='bert-base-uncased', top_k=2, tokenizer=('bert-base-cased', {\"use_fast\": True}))"
   ]
  },
  {
   "cell_type": "code",
   "execution_count": 12,
   "id": "4542b96f-1cda-4f52-b178-707c12d47806",
   "metadata": {},
   "outputs": [],
   "source": [
    "mined_prompt_model = PromptModel(unmasker, \"mine\", lama_prompts)\n",
    "paraphrased_prompt_model = PromptModel(unmasker, \"paraphrase\", lama_prompts)"
   ]
  },
  {
   "cell_type": "code",
   "execution_count": 13,
   "id": "5c6bcaee-1cd2-4811-866d-b1a583a2c332",
   "metadata": {},
   "outputs": [],
   "source": [
    "criterion = nn.CrossEntropyLoss()\n",
    "optimizer = optim.SGD(mined_prompt_model.parameters(), lr=0.01, momentum=0.9)"
   ]
  },
  {
   "cell_type": "code",
   "execution_count": null,
   "id": "b5a4d9e9-a53d-4937-9c7d-3efb4c03af46",
   "metadata": {},
   "outputs": [
    {
     "name": "stdout",
     "output_type": "stream",
     "text": [
      "start with 2.725754976272583 seconds\n",
      "prompts with 0.0008020401000976562 seconds\n",
      "pipline with 4.3178322315216064 seconds\n",
      "preprocessing with 0.005151033401489258 seconds\n",
      "start with 0.0033767223358154297 seconds\n",
      "prompts with 0.0002791881561279297 seconds\n",
      "pipline with 4.267877817153931 seconds\n",
      "preprocessing with 0.004385948181152344 seconds\n",
      "start with 0.0029850006103515625 seconds\n",
      "prompts with 0.00017309188842773438 seconds\n",
      "pipline with 4.505741119384766 seconds\n",
      "preprocessing with 0.003969907760620117 seconds\n",
      "start with 0.0031290054321289062 seconds\n",
      "prompts with 0.0002391338348388672 seconds\n",
      "pipline with 4.7076380252838135 seconds\n",
      "preprocessing with 0.0038487911224365234 seconds\n",
      "start with 0.003874063491821289 seconds\n",
      "prompts with 0.0004329681396484375 seconds\n",
      "pipline with 3.7717628479003906 seconds\n",
      "preprocessing with 0.0031092166900634766 seconds\n",
      "start with 0.0025358200073242188 seconds\n",
      "prompts with 0.0002512931823730469 seconds\n",
      "pipline with 4.595362663269043 seconds\n",
      "preprocessing with 0.004215240478515625 seconds\n",
      "start with 0.0029859542846679688 seconds\n",
      "prompts with 0.0004220008850097656 seconds\n",
      "pipline with 4.580136060714722 seconds\n",
      "preprocessing with 0.003802061080932617 seconds\n",
      "start with 0.0028738975524902344 seconds\n",
      "prompts with 0.0003299713134765625 seconds\n",
      "pipline with 4.432828187942505 seconds\n",
      "preprocessing with 0.003693819046020508 seconds\n",
      "start with 0.0030808448791503906 seconds\n",
      "prompts with 0.00023698806762695312 seconds\n",
      "pipline with 4.5383501052856445 seconds\n",
      "preprocessing with 0.003679990768432617 seconds\n",
      "start with 0.0029151439666748047 seconds\n",
      "prompts with 0.00016498565673828125 seconds\n",
      "pipline with 4.473009824752808 seconds\n",
      "preprocessing with 0.0037260055541992188 seconds\n",
      "start with 0.0029001235961914062 seconds\n",
      "prompts with 0.00015783309936523438 seconds\n",
      "pipline with 4.466856241226196 seconds\n",
      "preprocessing with 0.0038437843322753906 seconds\n",
      "start with 0.003194093704223633 seconds\n",
      "prompts with 0.00016808509826660156 seconds\n",
      "pipline with 4.508425951004028 seconds\n",
      "preprocessing with 0.003704071044921875 seconds\n",
      "start with 0.0029299259185791016 seconds\n",
      "prompts with 0.00016188621520996094 seconds\n",
      "pipline with 4.4609270095825195 seconds\n",
      "preprocessing with 0.0035691261291503906 seconds\n",
      "start with 0.0028839111328125 seconds\n",
      "prompts with 0.0002942085266113281 seconds\n",
      "pipline with 4.44726300239563 seconds\n",
      "preprocessing with 0.004109859466552734 seconds\n",
      "start with 0.0030050277709960938 seconds\n",
      "prompts with 0.0002589225769042969 seconds\n",
      "pipline with 4.464299917221069 seconds\n",
      "preprocessing with 0.003756999969482422 seconds\n",
      "start with 0.0027909278869628906 seconds\n",
      "prompts with 0.0001621246337890625 seconds\n",
      "pipline with 4.511584043502808 seconds\n",
      "preprocessing with 0.003857135772705078 seconds\n",
      "start with 0.002872943878173828 seconds\n",
      "prompts with 0.00016188621520996094 seconds\n",
      "pipline with 4.471107006072998 seconds\n",
      "preprocessing with 0.003843069076538086 seconds\n",
      "start with 0.0031938552856445312 seconds\n",
      "prompts with 0.00023818016052246094 seconds\n",
      "pipline with 4.5102458000183105 seconds\n",
      "preprocessing with 0.0036890506744384766 seconds\n",
      "start with 0.003092050552368164 seconds\n",
      "prompts with 0.00023221969604492188 seconds\n",
      "pipline with 4.522241830825806 seconds\n",
      "preprocessing with 0.0036728382110595703 seconds\n",
      "start with 0.002948284149169922 seconds\n",
      "prompts with 0.00023984909057617188 seconds\n",
      "pipline with 4.460397958755493 seconds\n",
      "preprocessing with 0.0035190582275390625 seconds\n",
      "start with 0.003014087677001953 seconds\n",
      "prompts with 0.00024509429931640625 seconds\n",
      "pipline with 4.46198582649231 seconds\n",
      "preprocessing with 0.003882884979248047 seconds\n",
      "start with 0.0030651092529296875 seconds\n",
      "prompts with 0.0002880096435546875 seconds\n",
      "pipline with 4.438771963119507 seconds\n",
      "preprocessing with 0.003849029541015625 seconds\n",
      "start with 0.003031015396118164 seconds\n",
      "prompts with 0.0002491474151611328 seconds\n",
      "pipline with 4.510359048843384 seconds\n",
      "preprocessing with 0.0036306381225585938 seconds\n",
      "start with 0.0028481483459472656 seconds\n",
      "prompts with 0.00015783309936523438 seconds\n",
      "pipline with 4.486002206802368 seconds\n",
      "preprocessing with 0.003484964370727539 seconds\n",
      "start with 0.002964019775390625 seconds\n",
      "prompts with 0.0003120899200439453 seconds\n",
      "pipline with 4.4755539894104 seconds\n",
      "preprocessing with 0.003840923309326172 seconds\n",
      "start with 0.003200054168701172 seconds\n",
      "prompts with 0.0002589225769042969 seconds\n",
      "pipline with 4.430552959442139 seconds\n",
      "preprocessing with 0.004111051559448242 seconds\n",
      "start with 0.0030710697174072266 seconds\n",
      "prompts with 0.00022101402282714844 seconds\n",
      "pipline with 4.4715540409088135 seconds\n",
      "preprocessing with 0.003676891326904297 seconds\n",
      "start with 0.0028548240661621094 seconds\n",
      "prompts with 0.00015735626220703125 seconds\n",
      "pipline with 4.486095666885376 seconds\n",
      "preprocessing with 0.0037310123443603516 seconds\n",
      "start with 0.0028672218322753906 seconds\n",
      "prompts with 0.0001380443572998047 seconds\n",
      "pipline with 4.447591781616211 seconds\n",
      "preprocessing with 0.0037152767181396484 seconds\n",
      "start with 0.002918720245361328 seconds\n",
      "prompts with 0.00023984909057617188 seconds\n",
      "pipline with 4.461325168609619 seconds\n",
      "preprocessing with 0.0038390159606933594 seconds\n",
      "start with 0.0031900405883789062 seconds\n",
      "prompts with 0.0001671314239501953 seconds\n",
      "pipline with 4.481907844543457 seconds\n",
      "preprocessing with 0.003654956817626953 seconds\n",
      "start with 0.0031991004943847656 seconds\n",
      "prompts with 0.0002880096435546875 seconds\n",
      "pipline with 4.504676103591919 seconds\n",
      "preprocessing with 0.0038247108459472656 seconds\n",
      "start with 0.0032041072845458984 seconds\n",
      "prompts with 0.0002892017364501953 seconds\n",
      "pipline with 4.403290748596191 seconds\n",
      "preprocessing with 0.003863096237182617 seconds\n",
      "start with 0.0030400753021240234 seconds\n",
      "prompts with 0.0002727508544921875 seconds\n",
      "pipline with 4.390988111495972 seconds\n",
      "preprocessing with 0.0034720897674560547 seconds\n",
      "start with 0.0029680728912353516 seconds\n",
      "prompts with 0.0003159046173095703 seconds\n",
      "pipline with 3.8059120178222656 seconds\n",
      "preprocessing with 0.0029850006103515625 seconds\n",
      "start with 0.0027189254760742188 seconds\n",
      "prompts with 0.00025916099548339844 seconds\n",
      "pipline with 4.6005167961120605 seconds\n",
      "preprocessing with 0.004113197326660156 seconds\n",
      "start with 0.0030019283294677734 seconds\n",
      "prompts with 0.0003261566162109375 seconds\n",
      "pipline with 4.578893661499023 seconds\n",
      "preprocessing with 0.0038232803344726562 seconds\n",
      "start with 0.003180980682373047 seconds\n",
      "prompts with 0.0002586841583251953 seconds\n",
      "pipline with 4.4298601150512695 seconds\n",
      "preprocessing with 0.0034902095794677734 seconds\n",
      "start with 0.003184795379638672 seconds\n",
      "prompts with 0.0003261566162109375 seconds\n",
      "pipline with 4.508584976196289 seconds\n",
      "preprocessing with 0.003704071044921875 seconds\n",
      "start with 0.002856016159057617 seconds\n",
      "prompts with 0.0002989768981933594 seconds\n",
      "pipline with 4.426681756973267 seconds\n",
      "preprocessing with 0.0035490989685058594 seconds\n",
      "start with 0.002914905548095703 seconds\n",
      "prompts with 0.0001709461212158203 seconds\n",
      "pipline with 4.446887254714966 seconds\n",
      "preprocessing with 0.003838062286376953 seconds\n",
      "start with 0.0031206607818603516 seconds\n",
      "prompts with 0.0003540515899658203 seconds\n",
      "pipline with 4.402221202850342 seconds\n",
      "preprocessing with 0.0036439895629882812 seconds\n",
      "start with 0.002939939498901367 seconds\n",
      "prompts with 0.0003018379211425781 seconds\n",
      "pipline with 3.7624101638793945 seconds\n",
      "preprocessing with 0.003278017044067383 seconds\n",
      "start with 0.0030851364135742188 seconds\n",
      "prompts with 0.000308990478515625 seconds\n",
      "pipline with 4.402849912643433 seconds\n",
      "preprocessing with 0.003815889358520508 seconds\n",
      "start with 0.003091096878051758 seconds\n",
      "prompts with 0.00022602081298828125 seconds\n",
      "pipline with 4.474255800247192 seconds\n",
      "preprocessing with 0.003735065460205078 seconds\n",
      "start with 0.0029990673065185547 seconds\n",
      "prompts with 0.00024390220642089844 seconds\n",
      "pipline with 3.739185094833374 seconds\n",
      "preprocessing with 0.002950906753540039 seconds\n",
      "start with 0.002981901168823242 seconds\n",
      "prompts with 0.0002472400665283203 seconds\n",
      "pipline with 4.412496089935303 seconds\n",
      "preprocessing with 0.003664731979370117 seconds\n",
      "start with 0.002905130386352539 seconds\n",
      "prompts with 0.0003190040588378906 seconds\n",
      "pipline with 4.504029035568237 seconds\n",
      "preprocessing with 0.00351715087890625 seconds\n",
      "start with 0.0029456615447998047 seconds\n",
      "prompts with 0.00016427040100097656 seconds\n",
      "pipline with 4.366949081420898 seconds\n",
      "preprocessing with 0.003468751907348633 seconds\n",
      "start with 0.002927064895629883 seconds\n",
      "prompts with 0.00015997886657714844 seconds\n",
      "pipline with 4.470179080963135 seconds\n",
      "preprocessing with 0.003484964370727539 seconds\n",
      "start with 0.0029900074005126953 seconds\n",
      "prompts with 0.0002579689025878906 seconds\n",
      "pipline with 4.482654809951782 seconds\n",
      "preprocessing with 0.0037550926208496094 seconds\n",
      "start with 0.003156900405883789 seconds\n",
      "prompts with 0.00023436546325683594 seconds\n",
      "pipline with 4.42956280708313 seconds\n",
      "preprocessing with 0.003451824188232422 seconds\n",
      "start with 0.0029141902923583984 seconds\n",
      "prompts with 0.000164031982421875 seconds\n",
      "pipline with 4.4977569580078125 seconds\n",
      "preprocessing with 0.0038781166076660156 seconds\n",
      "start with 0.003078937530517578 seconds\n",
      "prompts with 0.0002319812774658203 seconds\n",
      "pipline with 4.466966867446899 seconds\n",
      "preprocessing with 0.0035691261291503906 seconds\n",
      "start with 0.0029039382934570312 seconds\n",
      "prompts with 0.00028705596923828125 seconds\n",
      "pipline with 4.5084710121154785 seconds\n",
      "preprocessing with 0.003849029541015625 seconds\n",
      "start with 0.003181934356689453 seconds\n",
      "prompts with 0.0003001689910888672 seconds\n",
      "pipline with 4.496917963027954 seconds\n",
      "preprocessing with 0.0039288997650146484 seconds\n",
      "start with 0.003364086151123047 seconds\n",
      "prompts with 0.00024580955505371094 seconds\n",
      "pipline with 4.569350957870483 seconds\n",
      "preprocessing with 0.003464221954345703 seconds\n",
      "start with 0.0029888153076171875 seconds\n",
      "prompts with 0.00033211708068847656 seconds\n",
      "pipline with 4.638592004776001 seconds\n",
      "preprocessing with 0.003751039505004883 seconds\n",
      "start with 0.002994060516357422 seconds\n",
      "prompts with 0.0003178119659423828 seconds\n",
      "pipline with 4.448426008224487 seconds\n",
      "preprocessing with 0.003454923629760742 seconds\n",
      "start with 0.0028810501098632812 seconds\n",
      "prompts with 0.0001430511474609375 seconds\n",
      "pipline with 3.7190868854522705 seconds\n",
      "preprocessing with 0.0029261112213134766 seconds\n",
      "start with 0.0028569698333740234 seconds\n",
      "prompts with 0.0002491474151611328 seconds\n",
      "pipline with 4.454369068145752 seconds\n",
      "preprocessing with 0.003487825393676758 seconds\n",
      "start with 0.0029649734497070312 seconds\n",
      "prompts with 0.0003159046173095703 seconds\n",
      "pipline with 4.453840970993042 seconds\n",
      "preprocessing with 0.0034542083740234375 seconds\n",
      "start with 0.003158092498779297 seconds\n",
      "prompts with 0.0003018379211425781 seconds\n",
      "pipline with 4.431326866149902 seconds\n",
      "preprocessing with 0.0034711360931396484 seconds\n",
      "start with 0.002981901168823242 seconds\n",
      "prompts with 0.0003082752227783203 seconds\n",
      "pipline with 4.461223840713501 seconds\n",
      "preprocessing with 0.003692150115966797 seconds\n",
      "start with 0.0028710365295410156 seconds\n",
      "prompts with 0.00016164779663085938 seconds\n",
      "pipline with 4.474042177200317 seconds\n",
      "preprocessing with 0.003495931625366211 seconds\n",
      "start with 0.0029990673065185547 seconds\n",
      "prompts with 0.00024509429931640625 seconds\n",
      "pipline with 4.422853708267212 seconds\n",
      "preprocessing with 0.0034732818603515625 seconds\n",
      "start with 0.003134012222290039 seconds\n",
      "prompts with 0.00024580955505371094 seconds\n",
      "pipline with 4.448096036911011 seconds\n",
      "preprocessing with 0.0038139820098876953 seconds\n",
      "start with 0.0031762123107910156 seconds\n",
      "prompts with 0.0002627372741699219 seconds\n",
      "pipline with 4.408986330032349 seconds\n",
      "preprocessing with 0.0037627220153808594 seconds\n",
      "start with 0.002953052520751953 seconds\n",
      "prompts with 0.0002281665802001953 seconds\n",
      "pipline with 3.7120838165283203 seconds\n",
      "preprocessing with 0.0031518936157226562 seconds\n",
      "start with 0.002953052520751953 seconds\n",
      "prompts with 0.00015616416931152344 seconds\n",
      "pipline with 3.7532589435577393 seconds\n",
      "preprocessing with 0.0030798912048339844 seconds\n",
      "start with 0.002950906753540039 seconds\n",
      "prompts with 0.0003173351287841797 seconds\n",
      "pipline with 4.4387288093566895 seconds\n",
      "preprocessing with 0.0037550926208496094 seconds\n",
      "start with 0.003187894821166992 seconds\n",
      "prompts with 0.00022101402282714844 seconds\n",
      "pipline with 3.7469871044158936 seconds\n",
      "preprocessing with 0.0029489994049072266 seconds\n",
      "start with 0.0029168128967285156 seconds\n",
      "prompts with 0.00028324127197265625 seconds\n",
      "pipline with 4.394005060195923 seconds\n",
      "preprocessing with 0.003796815872192383 seconds\n",
      "start with 0.003119945526123047 seconds\n",
      "prompts with 0.00023818016052246094 seconds\n",
      "pipline with 3.6797049045562744 seconds\n",
      "preprocessing with 0.002917051315307617 seconds\n",
      "start with 0.002591848373413086 seconds\n",
      "prompts with 0.000244140625 seconds\n",
      "pipline with 4.492720127105713 seconds\n",
      "preprocessing with 0.0038299560546875 seconds\n",
      "start with 0.003032684326171875 seconds\n",
      "prompts with 0.0002570152282714844 seconds\n"
     ]
    }
   ],
   "source": [
    "for epoch in range(EPOCHS):\n",
    "    for batch in train_dataloader: #tqdm(train_dataloader):\n",
    "        (subjs, rels), labels = batch\n",
    "        label_ids = torch.tensor(tokenizer.convert_tokens_to_ids(labels))\n",
    "        output = mined_prompt_model(subjs, rels)\n",
    "        loss = criterion(output, label_ids)\n",
    "        loss.backward()\n",
    "        optimizer.step()\n",
    "    print(loss)"
   ]
  },
  {
   "cell_type": "markdown",
   "id": "eb91df1f-7b66-4797-8c08-90e705b09d23",
   "metadata": {},
   "source": [
    "text = \"Replace me by any text you'd like.\"\n",
    "encoded_input = tokenizer(text, return_tensors='pt')\n",
    "output = model(**encoded_input)"
   ]
  },
  {
   "cell_type": "code",
   "execution_count": null,
   "id": "77abb217-9edd-4870-9ab3-cb0fc29c7ae3",
   "metadata": {
    "scrolled": true,
    "tags": []
   },
   "outputs": [],
   "source": [
    "%%time\n",
    "output = unmasker(prompts, batch_size=8)"
   ]
  },
  {
   "cell_type": "code",
   "execution_count": null,
   "id": "2d019e43-78f8-4e97-9e7d-ddbea5a238b2",
   "metadata": {},
   "outputs": [],
   "source": [
    "output"
   ]
  },
  {
   "cell_type": "code",
   "execution_count": null,
   "id": "376ff618-4f4b-4755-8759-0de7075b5a48",
   "metadata": {},
   "outputs": [],
   "source": [
    "tokenizer.convert_tokens_to_ids(['england', \"germany\"])"
   ]
  },
  {
   "cell_type": "code",
   "execution_count": null,
   "id": "bd7d985b-c3ac-4a4d-9eeb-e6b4d9ac076e",
   "metadata": {},
   "outputs": [],
   "source": [
    "tokenizer.decode(2762)"
   ]
  },
  {
   "cell_type": "code",
   "execution_count": null,
   "id": "d7c445cf-5a15-4bab-b36f-f6739e556825",
   "metadata": {},
   "outputs": [],
   "source": []
  }
 ],
 "metadata": {
  "kernelspec": {
   "display_name": "Python 3 (ipykernel)",
   "language": "python",
   "name": "python3"
  },
  "language_info": {
   "codemirror_mode": {
    "name": "ipython",
    "version": 3
   },
   "file_extension": ".py",
   "mimetype": "text/x-python",
   "name": "python",
   "nbconvert_exporter": "python",
   "pygments_lexer": "ipython3",
   "version": "3.8.9"
  }
 },
 "nbformat": 4,
 "nbformat_minor": 5
}