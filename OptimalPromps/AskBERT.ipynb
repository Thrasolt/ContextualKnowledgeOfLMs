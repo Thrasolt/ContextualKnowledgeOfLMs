{
 "cells": [
  {
   "cell_type": "code",
   "execution_count": 1,
   "id": "bc21928c-3afd-40d1-acc8-5455f88b2265",
   "metadata": {
    "pycharm": {
     "name": "#%%\n"
    }
   },
   "outputs": [],
   "source": [
    "import torch\n",
    "import torch.optim as optim\n",
    "import torch.nn as nn\n",
    "from torch.utils.data import DataLoader\n",
    "from transformers import logging\n",
    "from transformers import pipeline\n",
    "from transformers import BertTokenizer, BertModel\n",
    "from tqdm import tqdm\n",
    "from Timer import Timer"
   ]
  },
  {
   "cell_type": "code",
   "execution_count": 2,
   "id": "cacab846-403d-4ad1-ae72-727a1f1211dd",
   "metadata": {
    "pycharm": {
     "name": "#%%\n"
    }
   },
   "outputs": [],
   "source": [
    "BATCH_SIZE = 5\n",
    "EPOCHS = 1"
   ]
  },
  {
   "cell_type": "code",
   "execution_count": null,
   "id": "19cb1663",
   "metadata": {
    "collapsed": false,
    "jupyter": {
     "outputs_hidden": false
    },
    "pycharm": {
     "name": "#%%\n"
    }
   },
   "outputs": [],
   "source": []
  },
  {
   "cell_type": "code",
   "execution_count": 3,
   "id": "3e910815-abab-4dc9-a931-b20fbfa282f6",
   "metadata": {
    "pycharm": {
     "name": "#%%\n"
    }
   },
   "outputs": [],
   "source": [
    "logging.set_verbosity_error()"
   ]
  },
  {
   "cell_type": "code",
   "execution_count": 4,
   "id": "caad7ba3-7c34-44e3-83f4-2b9d5e561c17",
   "metadata": {
    "pycharm": {
     "name": "#%%\n"
    }
   },
   "outputs": [],
   "source": [
    "#model = torch.hub.load('huggingface/pytorch-transformers', 'model', 'bert-base-uncased');"
   ]
  },
  {
   "cell_type": "code",
   "execution_count": 5,
   "id": "cb64c45d",
   "metadata": {
    "collapsed": false,
    "jupyter": {
     "outputs_hidden": false
    },
    "pycharm": {
     "name": "#%%\n"
    }
   },
   "outputs": [],
   "source": [
    "from LamaTRExData import LamaTRExData\n",
    "from LamaPrompts import LamaPrompts\n",
    "from PromptModel import PromptModel, BERT_VOCAB_SIZE"
   ]
  },
  {
   "cell_type": "code",
   "execution_count": 6,
   "id": "4c9f6ca2",
   "metadata": {
    "collapsed": false,
    "jupyter": {
     "outputs_hidden": false
    },
    "pycharm": {
     "name": "#%%\n"
    }
   },
   "outputs": [],
   "source": [
    "train_data = LamaTRExData()\n",
    "train_data.load()\n",
    "train_dataloader = DataLoader(train_data.data_set, batch_size=BATCH_SIZE, shuffle=True, num_workers=4)"
   ]
  },
  {
   "cell_type": "code",
   "execution_count": 7,
   "id": "59977a10-0be5-4ac2-aa57-4a2075db4d51",
   "metadata": {
    "pycharm": {
     "name": "#%%\n"
    }
   },
   "outputs": [],
   "source": [
    "test_data = LamaTRExData(train=False)\n",
    "test_data.load()"
   ]
  },
  {
   "cell_type": "code",
   "execution_count": 8,
   "id": "9140a3de-b53f-426b-b842-6ec323bfbe65",
   "metadata": {
    "pycharm": {
     "name": "#%%\n"
    }
   },
   "outputs": [],
   "source": [
    "lama_prompts = LamaPrompts()\n",
    "lama_prompts.load()"
   ]
  },
  {
   "cell_type": "code",
   "execution_count": 9,
   "id": "30818bff-6acd-4891-956a-bc7f4e2bc3c9",
   "metadata": {
    "pycharm": {
     "name": "#%%\n"
    }
   },
   "outputs": [],
   "source": [
    "prompts = [prmpt for prmpt, _ in lama_prompts.generate_for_rel(\"mine\",\"P1001\", \"Eibenstock\")]"
   ]
  },
  {
   "cell_type": "code",
   "execution_count": 10,
   "id": "5a7e4db3-4cb4-48cb-ac5c-0502996b55f9",
   "metadata": {
    "pycharm": {
     "name": "#%%\n"
    }
   },
   "outputs": [],
   "source": [
    "tokenizer = BertTokenizer.from_pretrained('bert-base-uncased')\n",
    "model = BertModel.from_pretrained(\"bert-base-uncased\")"
   ]
  },
  {
   "cell_type": "code",
   "execution_count": 11,
   "id": "2ef28541-7062-4428-8ec4-6a9d2f399584",
   "metadata": {
    "pycharm": {
     "name": "#%%\n"
    }
   },
   "outputs": [],
   "source": [
    "unmasker = pipeline('fill-mask', model='bert-base-uncased', top_k=2, tokenizer=('bert-base-cased', {\"use_fast\": True}))"
   ]
  },
  {
   "cell_type": "code",
   "execution_count": 12,
   "id": "b135170b-f285-494b-9e3c-03ffab67a9b0",
   "metadata": {
    "scrolled": true,
    "tags": [],
    "pycharm": {
     "name": "#%%\n"
    }
   },
   "outputs": [
    {
     "name": "stdout",
     "output_type": "stream",
     "text": [
      "CPU times: user 1.02 s, sys: 281 ms, total: 1.3 s\n",
      "Wall time: 974 ms\n"
     ]
    },
    {
     "data": {
      "text/plain": [
       "[[{'score': 0.017790066078305244,\n",
       "   'token': 1012,\n",
       "   'token_str': '夫',\n",
       "   'sequence': 'Eibenstock in the australian 夫.'},\n",
       "  {'score': 0.006468340754508972,\n",
       "   'token': 2605,\n",
       "   'token_str': '##ni',\n",
       "   'sequence': 'Eibenstock in the australianni.'}],\n",
       " [{'score': 0.030957939103245735,\n",
       "   'token': 2015,\n",
       "   'token_str': 'Society',\n",
       "   'sequence': 'Eibenstock of morbihan association insee Society.'},\n",
       "  {'score': 0.019493697211146355,\n",
       "   'token': 1012,\n",
       "   'token_str': '夫',\n",
       "   'sequence': 'Eibenstock of morbihan association insee 夫.'}],\n",
       " [{'score': 0.06836647540330887,\n",
       "   'token': 100,\n",
       "   'token_str': '[UNK]',\n",
       "   'sequence': 'Eibenstock in the australian state of.'},\n",
       "  {'score': 0.06667706370353699,\n",
       "   'token': 2078,\n",
       "   'token_str': 'official',\n",
       "   'sequence': 'Eibenstock in the australian state of official.'}],\n",
       " [{'score': 0.25777125358581543,\n",
       "   'token': 1037,\n",
       "   'token_str': '月',\n",
       "   'sequence': '月 politician and Eibenstock.'},\n",
       "  {'score': 0.06471894681453705,\n",
       "   'token': 1998,\n",
       "   'token_str': 'Club',\n",
       "   'sequence': 'Club politician and Eibenstock.'}],\n",
       " [{'score': 0.09167173504829407,\n",
       "   'token': 29672,\n",
       "   'token_str': '',\n",
       "   'sequence': 'Eibenstock legislative district maps from the.'},\n",
       "  {'score': 0.0633196085691452,\n",
       "   'token': 1103,\n",
       "   'token_str': 'the',\n",
       "   'sequence': 'Eibenstock legislative district maps from the the.'}],\n",
       " [{'score': 0.18718092143535614,\n",
       "   'token': 1037,\n",
       "   'token_str': '月',\n",
       "   'sequence': '月 politician and former Eibenstock.'},\n",
       "  {'score': 0.0841694250702858,\n",
       "   'token': 1998,\n",
       "   'token_str': 'Club',\n",
       "   'sequence': 'Club politician and former Eibenstock.'}],\n",
       " [{'score': 0.343484103679657,\n",
       "   'token': 2078,\n",
       "   'token_str': 'official',\n",
       "   'sequence': 'Eibenstock constituencies of official.'},\n",
       "  {'score': 0.028976235538721085,\n",
       "   'token': 1012,\n",
       "   'token_str': '夫',\n",
       "   'sequence': 'Eibenstock constituencies of 夫.'}],\n",
       " [{'score': 0.7786713242530823,\n",
       "   'token': 1103,\n",
       "   'token_str': 'the',\n",
       "   'sequence': 'Eibenstock of the province of the.'},\n",
       "  {'score': 0.16122008860111237,\n",
       "   'token': 29672,\n",
       "   'token_str': '',\n",
       "   'sequence': 'Eibenstock of the province of.'}],\n",
       " [{'score': 0.03762996196746826,\n",
       "   'token': 1041,\n",
       "   'token_str': '村',\n",
       "   'sequence': '村 that elects members to the Eibenstock.'},\n",
       "  {'score': 0.036665137857198715,\n",
       "   'token': 100,\n",
       "   'token_str': '[UNK]',\n",
       "   'sequence': 'that elects members to the Eibenstock.'}],\n",
       " [{'score': 0.010668713599443436,\n",
       "   'token': 2958,\n",
       "   'token_str': 'Governor',\n",
       "   'sequence': 'Eibenstock of the holy Governor.'},\n",
       "  {'score': 0.008929082192480564,\n",
       "   'token': 2462,\n",
       "   'token_str': 'distance',\n",
       "   'sequence': 'Eibenstock of the holy distance.'}],\n",
       " [{'score': 0.13926641643047333,\n",
       "   'token': 1207,\n",
       "   'token_str': 'new',\n",
       "   'sequence': 'Eibenstock of the new new.'},\n",
       "  {'score': 0.05642068013548851,\n",
       "   'token': 100,\n",
       "   'token_str': '[UNK]',\n",
       "   'sequence': 'Eibenstock of the new.'}],\n",
       " [{'score': 0.0634981095790863,\n",
       "   'token': 1011,\n",
       "   'token_str': '太',\n",
       "   'sequence': '太 elects a Eibenstock.'},\n",
       "  {'score': 0.05399030074477196,\n",
       "   'token': 1000,\n",
       "   'token_str': '吉',\n",
       "   'sequence': '吉 elects a Eibenstock.'}],\n",
       " [{'score': 0.2237195074558258,\n",
       "   'token': 1037,\n",
       "   'token_str': '月',\n",
       "   'sequence': '月 politician and a former Eibenstock.'},\n",
       "  {'score': 0.07563289254903793,\n",
       "   'token': 1998,\n",
       "   'token_str': 'Club',\n",
       "   'sequence': 'Club politician and a former Eibenstock.'}],\n",
       " [{'score': 0.10726971924304962,\n",
       "   'token': 7020,\n",
       "   'token_str': 'monument',\n",
       "   'sequence': 'monument who served in the Eibenstock.'},\n",
       "  {'score': 0.07629534602165222,\n",
       "   'token': 1055,\n",
       "   'token_str': '王',\n",
       "   'sequence': '王 who served in the Eibenstock.'}],\n",
       " [{'score': 0.08767278492450714,\n",
       "   'token': 1103,\n",
       "   'token_str': 'the',\n",
       "   'sequence': 'Eibenstock electorate in the state of the.'},\n",
       "  {'score': 0.08030466735363007,\n",
       "   'token': 100,\n",
       "   'token_str': '[UNK]',\n",
       "   'sequence': 'Eibenstock electorate in the state of.'}],\n",
       " [{'score': 0.059254758059978485,\n",
       "   'token': 29709,\n",
       "   'token_str': '',\n",
       "   'sequence': 'Eibenstock were allocated to.'},\n",
       "  {'score': 0.038706354796886444,\n",
       "   'token': 100,\n",
       "   'token_str': '[UNK]',\n",
       "   'sequence': 'Eibenstock were allocated to.'}],\n",
       " [{'score': 0.022329172119498253,\n",
       "   'token': 2198,\n",
       "   'token_str': '1st',\n",
       "   'sequence': '1st volleyball body Eibenstock.'},\n",
       "  {'score': 0.01778572052717209,\n",
       "   'token': 3505,\n",
       "   'token_str': 'nice',\n",
       "   'sequence': 'nice volleyball body Eibenstock.'}],\n",
       " [{'score': 0.04313574731349945,\n",
       "   'token': 1012,\n",
       "   'token_str': '夫',\n",
       "   'sequence': 'Eibenstock leader of the opposition ( 夫.'},\n",
       "  {'score': 0.03684808686375618,\n",
       "   'token': 2232,\n",
       "   'token_str': 'moving',\n",
       "   'sequence': 'Eibenstock leader of the opposition ( moving.'}],\n",
       " [{'score': 0.09270339459180832,\n",
       "   'token': 1055,\n",
       "   'token_str': '王',\n",
       "   'sequence': '王 who served as a republican Eibenstock.'},\n",
       "  {'score': 0.050279419869184494,\n",
       "   'token': 7020,\n",
       "   'token_str': 'monument',\n",
       "   'sequence': 'monument who served as a republican Eibenstock.'}],\n",
       " [{'score': 0.0749744176864624,\n",
       "   'token': 2033,\n",
       "   'token_str': 'getting',\n",
       "   'sequence': 'Eibenstock of the medical getting.'},\n",
       "  {'score': 0.06075276806950569,\n",
       "   'token': 2017,\n",
       "   'token_str': 'involved',\n",
       "   'sequence': 'Eibenstock of the medical involved.'}],\n",
       " [{'score': 0.02363552525639534,\n",
       "   'token': 13374,\n",
       "   'token_str': '##ibe',\n",
       "   'sequence': '##ibe habitats Eibenstock.'},\n",
       "  {'score': 0.020794175565242767,\n",
       "   'token': 6901,\n",
       "   'token_str': 'recalled',\n",
       "   'sequence': 'recalled habitats Eibenstock.'}],\n",
       " [{'score': 0.12501740455627441,\n",
       "   'token': 2050,\n",
       "   'token_str': '##st',\n",
       "   'sequence': 'Eibenstock constituencies of thest.'},\n",
       "  {'score': 0.05061831697821617,\n",
       "   'token': 11475,\n",
       "   'token_str': 'depot',\n",
       "   'sequence': 'Eibenstock constituencies of the depot.'}],\n",
       " [{'score': 0.23644310235977173,\n",
       "   'token': 1012,\n",
       "   'token_str': '夫',\n",
       "   'sequence': 'Eibenstock of the law 夫.'},\n",
       "  {'score': 0.21560914814472198,\n",
       "   'token': 100,\n",
       "   'token_str': '[UNK]',\n",
       "   'sequence': 'Eibenstock of the law.'}],\n",
       " [{'score': 0.038951363414525986,\n",
       "   'token': 1037,\n",
       "   'token_str': '月',\n",
       "   'sequence': '月 politician who served in the Eibenstock.'},\n",
       "  {'score': 0.034919608384370804,\n",
       "   'token': 1011,\n",
       "   'token_str': '太',\n",
       "   'sequence': '太 politician who served in the Eibenstock.'}],\n",
       " [{'score': 0.5189476013183594,\n",
       "   'token': 1012,\n",
       "   'token_str': '夫',\n",
       "   'sequence': 'Eibenstock representing 夫.'},\n",
       "  {'score': 0.28344061970710754,\n",
       "   'token': 1000,\n",
       "   'token_str': '吉',\n",
       "   'sequence': 'Eibenstock representing 吉.'}],\n",
       " [{'score': 0.21375320851802826,\n",
       "   'token': 1037,\n",
       "   'token_str': '月',\n",
       "   'sequence': '月 politician and a Eibenstock.'},\n",
       "  {'score': 0.07487945258617401,\n",
       "   'token': 1998,\n",
       "   'token_str': 'Club',\n",
       "   'sequence': 'Club politician and a Eibenstock.'}],\n",
       " [{'score': 0.05944458767771721,\n",
       "   'token': 999,\n",
       "   'token_str': '司',\n",
       "   'sequence': 'Eibenstock of nazi 司.'},\n",
       "  {'score': 0.054203275591135025,\n",
       "   'token': 1012,\n",
       "   'token_str': '夫',\n",
       "   'sequence': 'Eibenstock of nazi 夫.'}],\n",
       " [{'score': 0.2253275066614151,\n",
       "   'token': 1012,\n",
       "   'token_str': '夫',\n",
       "   'sequence': 'Eibenstock website 夫.'},\n",
       "  {'score': 0.05026230961084366,\n",
       "   'token': 1025,\n",
       "   'token_str': '平',\n",
       "   'sequence': 'Eibenstock website 平.'}],\n",
       " [{'score': 0.19944773614406586,\n",
       "   'token': 2149,\n",
       "   'token_str': '##ur',\n",
       "   'sequence': '##ur elections for the Eibenstock.'},\n",
       "  {'score': 0.050722021609544754,\n",
       "   'token': 5611,\n",
       "   'token_str': 'flows',\n",
       "   'sequence': 'flows elections for the Eibenstock.'}]]"
      ]
     },
     "execution_count": 12,
     "metadata": {},
     "output_type": "execute_result"
    }
   ],
   "source": [
    "%%time\n",
    "unmasker(prompts)"
   ]
  },
  {
   "cell_type": "code",
   "execution_count": 13,
   "id": "4542b96f-1cda-4f52-b178-707c12d47806",
   "metadata": {
    "pycharm": {
     "name": "#%%\n"
    }
   },
   "outputs": [],
   "source": [
    "mined_prompt_model = PromptModel(unmasker, \"mine\", lama_prompts)\n",
    "paraphrased_prompt_model = PromptModel(unmasker, \"paraphrase\", lama_prompts)"
   ]
  },
  {
   "cell_type": "code",
   "execution_count": 14,
   "id": "5c6bcaee-1cd2-4811-866d-b1a583a2c332",
   "metadata": {
    "pycharm": {
     "name": "#%%\n"
    }
   },
   "outputs": [],
   "source": [
    "criterion = nn.CrossEntropyLoss()\n",
    "optimizer = optim.SGD(mined_prompt_model.parameters(), lr=0.01, momentum=0.9)"
   ]
  },
  {
   "cell_type": "markdown",
   "id": "42b0ceb3-d164-435b-b0ae-0b794042cd48",
   "metadata": {
    "pycharm": {
     "name": "#%% md\n"
    }
   },
   "source": [
    "for epoch in range(EPOCHS):\n",
    "    for batch in train_dataloader: #tqdm(train_dataloader):\n",
    "        (subjs, rels), labels = batch\n",
    "        label_ids = torch.tensor(tokenizer.convert_tokens_to_ids(labels))\n",
    "        output = mined_prompt_model(subjs, rels)\n",
    "        loss = criterion(output, label_ids)\n",
    "        loss.backward()\n",
    "        optimizer.step()\n",
    "    print(loss)"
   ]
  },
  {
   "cell_type": "markdown",
   "id": "eb91df1f-7b66-4797-8c08-90e705b09d23",
   "metadata": {
    "pycharm": {
     "name": "#%% md\n"
    }
   },
   "source": [
    "text = \"Replace me by any text you'd like.\"\n",
    "encoded_input = tokenizer(text, return_tensors='pt')\n",
    "output = model(**encoded_input)"
   ]
  },
  {
   "cell_type": "code",
   "execution_count": 15,
   "id": "77abb217-9edd-4870-9ab3-cb0fc29c7ae3",
   "metadata": {
    "scrolled": true,
    "tags": [],
    "pycharm": {
     "name": "#%%\n"
    }
   },
   "outputs": [
    {
     "name": "stdout",
     "output_type": "stream",
     "text": [
      "CPU times: user 452 ms, sys: 110 ms, total: 562 ms\n",
      "Wall time: 250 ms\n"
     ]
    }
   ],
   "source": [
    "%%time\n",
    "output = unmasker(prompts, batch_size=8)"
   ]
  },
  {
   "cell_type": "code",
   "execution_count": 16,
   "id": "2d019e43-78f8-4e97-9e7d-ddbea5a238b2",
   "metadata": {
    "pycharm": {
     "name": "#%%\n"
    }
   },
   "outputs": [
    {
     "data": {
      "text/plain": [
       "[[{'score': 0.017790047451853752,\n",
       "   'token': 1012,\n",
       "   'token_str': '夫',\n",
       "   'sequence': 'Eibenstock in the australian 夫.'},\n",
       "  {'score': 0.006468352396041155,\n",
       "   'token': 2605,\n",
       "   'token_str': '##ni',\n",
       "   'sequence': 'Eibenstock in the australianni.'}],\n",
       " [{'score': 0.030957939103245735,\n",
       "   'token': 2015,\n",
       "   'token_str': 'Society',\n",
       "   'sequence': 'Eibenstock of morbihan association insee Society.'},\n",
       "  {'score': 0.019493697211146355,\n",
       "   'token': 1012,\n",
       "   'token_str': '夫',\n",
       "   'sequence': 'Eibenstock of morbihan association insee 夫.'}],\n",
       " [{'score': 0.06836634874343872,\n",
       "   'token': 100,\n",
       "   'token_str': '[UNK]',\n",
       "   'sequence': 'Eibenstock in the australian state of.'},\n",
       "  {'score': 0.06667643040418625,\n",
       "   'token': 2078,\n",
       "   'token_str': 'official',\n",
       "   'sequence': 'Eibenstock in the australian state of official.'}],\n",
       " [{'score': 0.2577711045742035,\n",
       "   'token': 1037,\n",
       "   'token_str': '月',\n",
       "   'sequence': '月 politician and Eibenstock.'},\n",
       "  {'score': 0.06471903622150421,\n",
       "   'token': 1998,\n",
       "   'token_str': 'Club',\n",
       "   'sequence': 'Club politician and Eibenstock.'}],\n",
       " [{'score': 0.09167119115591049,\n",
       "   'token': 29672,\n",
       "   'token_str': '',\n",
       "   'sequence': 'Eibenstock legislative district maps from the.'},\n",
       "  {'score': 0.06331893801689148,\n",
       "   'token': 1103,\n",
       "   'token_str': 'the',\n",
       "   'sequence': 'Eibenstock legislative district maps from the the.'}],\n",
       " [{'score': 0.18718068301677704,\n",
       "   'token': 1037,\n",
       "   'token_str': '月',\n",
       "   'sequence': '月 politician and former Eibenstock.'},\n",
       "  {'score': 0.08416987955570221,\n",
       "   'token': 1998,\n",
       "   'token_str': 'Club',\n",
       "   'sequence': 'Club politician and former Eibenstock.'}],\n",
       " [{'score': 0.3434847295284271,\n",
       "   'token': 2078,\n",
       "   'token_str': 'official',\n",
       "   'sequence': 'Eibenstock constituencies of official.'},\n",
       "  {'score': 0.028976287692785263,\n",
       "   'token': 1012,\n",
       "   'token_str': '夫',\n",
       "   'sequence': 'Eibenstock constituencies of 夫.'}],\n",
       " [{'score': 0.778671383857727,\n",
       "   'token': 1103,\n",
       "   'token_str': 'the',\n",
       "   'sequence': 'Eibenstock of the province of the.'},\n",
       "  {'score': 0.1612197905778885,\n",
       "   'token': 29672,\n",
       "   'token_str': '',\n",
       "   'sequence': 'Eibenstock of the province of.'}],\n",
       " [{'score': 0.03762996196746826,\n",
       "   'token': 1041,\n",
       "   'token_str': '村',\n",
       "   'sequence': '村 that elects members to the Eibenstock.'},\n",
       "  {'score': 0.036665137857198715,\n",
       "   'token': 100,\n",
       "   'token_str': '[UNK]',\n",
       "   'sequence': 'that elects members to the Eibenstock.'}],\n",
       " [{'score': 0.010668669827282429,\n",
       "   'token': 2958,\n",
       "   'token_str': 'Governor',\n",
       "   'sequence': 'Eibenstock of the holy Governor.'},\n",
       "  {'score': 0.008928989991545677,\n",
       "   'token': 2462,\n",
       "   'token_str': 'distance',\n",
       "   'sequence': 'Eibenstock of the holy distance.'}],\n",
       " [{'score': 0.1392662078142166,\n",
       "   'token': 1207,\n",
       "   'token_str': 'new',\n",
       "   'sequence': 'Eibenstock of the new new.'},\n",
       "  {'score': 0.05642065033316612,\n",
       "   'token': 100,\n",
       "   'token_str': '[UNK]',\n",
       "   'sequence': 'Eibenstock of the new.'}],\n",
       " [{'score': 0.06349842250347137,\n",
       "   'token': 1011,\n",
       "   'token_str': '太',\n",
       "   'sequence': '太 elects a Eibenstock.'},\n",
       "  {'score': 0.053990695625543594,\n",
       "   'token': 1000,\n",
       "   'token_str': '吉',\n",
       "   'sequence': '吉 elects a Eibenstock.'}],\n",
       " [{'score': 0.2237195074558258,\n",
       "   'token': 1037,\n",
       "   'token_str': '月',\n",
       "   'sequence': '月 politician and a former Eibenstock.'},\n",
       "  {'score': 0.07563289254903793,\n",
       "   'token': 1998,\n",
       "   'token_str': 'Club',\n",
       "   'sequence': 'Club politician and a former Eibenstock.'}],\n",
       " [{'score': 0.10726971924304962,\n",
       "   'token': 7020,\n",
       "   'token_str': 'monument',\n",
       "   'sequence': 'monument who served in the Eibenstock.'},\n",
       "  {'score': 0.07629534602165222,\n",
       "   'token': 1055,\n",
       "   'token_str': '王',\n",
       "   'sequence': '王 who served in the Eibenstock.'}],\n",
       " [{'score': 0.08767278492450714,\n",
       "   'token': 1103,\n",
       "   'token_str': 'the',\n",
       "   'sequence': 'Eibenstock electorate in the state of the.'},\n",
       "  {'score': 0.08030466735363007,\n",
       "   'token': 100,\n",
       "   'token_str': '[UNK]',\n",
       "   'sequence': 'Eibenstock electorate in the state of.'}],\n",
       " [{'score': 0.05925460532307625,\n",
       "   'token': 29709,\n",
       "   'token_str': '',\n",
       "   'sequence': 'Eibenstock were allocated to.'},\n",
       "  {'score': 0.03870610520243645,\n",
       "   'token': 100,\n",
       "   'token_str': '[UNK]',\n",
       "   'sequence': 'Eibenstock were allocated to.'}],\n",
       " [{'score': 0.022329207509756088,\n",
       "   'token': 2198,\n",
       "   'token_str': '1st',\n",
       "   'sequence': '1st volleyball body Eibenstock.'},\n",
       "  {'score': 0.017785707488656044,\n",
       "   'token': 3505,\n",
       "   'token_str': 'nice',\n",
       "   'sequence': 'nice volleyball body Eibenstock.'}],\n",
       " [{'score': 0.04313574731349945,\n",
       "   'token': 1012,\n",
       "   'token_str': '夫',\n",
       "   'sequence': 'Eibenstock leader of the opposition ( 夫.'},\n",
       "  {'score': 0.03684808686375618,\n",
       "   'token': 2232,\n",
       "   'token_str': 'moving',\n",
       "   'sequence': 'Eibenstock leader of the opposition ( moving.'}],\n",
       " [{'score': 0.09270339459180832,\n",
       "   'token': 1055,\n",
       "   'token_str': '王',\n",
       "   'sequence': '王 who served as a republican Eibenstock.'},\n",
       "  {'score': 0.050279419869184494,\n",
       "   'token': 7020,\n",
       "   'token_str': 'monument',\n",
       "   'sequence': 'monument who served as a republican Eibenstock.'}],\n",
       " [{'score': 0.07497399300336838,\n",
       "   'token': 2033,\n",
       "   'token_str': 'getting',\n",
       "   'sequence': 'Eibenstock of the medical getting.'},\n",
       "  {'score': 0.06075282767415047,\n",
       "   'token': 2017,\n",
       "   'token_str': 'involved',\n",
       "   'sequence': 'Eibenstock of the medical involved.'}],\n",
       " [{'score': 0.023635536432266235,\n",
       "   'token': 13374,\n",
       "   'token_str': '##ibe',\n",
       "   'sequence': '##ibe habitats Eibenstock.'},\n",
       "  {'score': 0.020794223994016647,\n",
       "   'token': 6901,\n",
       "   'token_str': 'recalled',\n",
       "   'sequence': 'recalled habitats Eibenstock.'}],\n",
       " [{'score': 0.12501724064350128,\n",
       "   'token': 2050,\n",
       "   'token_str': '##st',\n",
       "   'sequence': 'Eibenstock constituencies of thest.'},\n",
       "  {'score': 0.05061853677034378,\n",
       "   'token': 11475,\n",
       "   'token_str': 'depot',\n",
       "   'sequence': 'Eibenstock constituencies of the depot.'}],\n",
       " [{'score': 0.23644207417964935,\n",
       "   'token': 1012,\n",
       "   'token_str': '夫',\n",
       "   'sequence': 'Eibenstock of the law 夫.'},\n",
       "  {'score': 0.21560943126678467,\n",
       "   'token': 100,\n",
       "   'token_str': '[UNK]',\n",
       "   'sequence': 'Eibenstock of the law.'}],\n",
       " [{'score': 0.038951363414525986,\n",
       "   'token': 1037,\n",
       "   'token_str': '月',\n",
       "   'sequence': '月 politician who served in the Eibenstock.'},\n",
       "  {'score': 0.034919608384370804,\n",
       "   'token': 1011,\n",
       "   'token_str': '太',\n",
       "   'sequence': '太 politician who served in the Eibenstock.'}],\n",
       " [{'score': 0.5189476013183594,\n",
       "   'token': 1012,\n",
       "   'token_str': '夫',\n",
       "   'sequence': 'Eibenstock representing 夫.'},\n",
       "  {'score': 0.28344061970710754,\n",
       "   'token': 1000,\n",
       "   'token_str': '吉',\n",
       "   'sequence': 'Eibenstock representing 吉.'}],\n",
       " [{'score': 0.21375320851802826,\n",
       "   'token': 1037,\n",
       "   'token_str': '月',\n",
       "   'sequence': '月 politician and a Eibenstock.'},\n",
       "  {'score': 0.07487945258617401,\n",
       "   'token': 1998,\n",
       "   'token_str': 'Club',\n",
       "   'sequence': 'Club politician and a Eibenstock.'}],\n",
       " [{'score': 0.05944458767771721,\n",
       "   'token': 999,\n",
       "   'token_str': '司',\n",
       "   'sequence': 'Eibenstock of nazi 司.'},\n",
       "  {'score': 0.054203275591135025,\n",
       "   'token': 1012,\n",
       "   'token_str': '夫',\n",
       "   'sequence': 'Eibenstock of nazi 夫.'}],\n",
       " [{'score': 0.2253275066614151,\n",
       "   'token': 1012,\n",
       "   'token_str': '夫',\n",
       "   'sequence': 'Eibenstock website 夫.'},\n",
       "  {'score': 0.05026230961084366,\n",
       "   'token': 1025,\n",
       "   'token_str': '平',\n",
       "   'sequence': 'Eibenstock website 平.'}],\n",
       " [{'score': 0.19944773614406586,\n",
       "   'token': 2149,\n",
       "   'token_str': '##ur',\n",
       "   'sequence': '##ur elections for the Eibenstock.'},\n",
       "  {'score': 0.050722021609544754,\n",
       "   'token': 5611,\n",
       "   'token_str': 'flows',\n",
       "   'sequence': 'flows elections for the Eibenstock.'}]]"
      ]
     },
     "execution_count": 16,
     "metadata": {},
     "output_type": "execute_result"
    }
   ],
   "source": [
    "output"
   ]
  },
  {
   "cell_type": "code",
   "execution_count": 17,
   "id": "376ff618-4f4b-4755-8759-0de7075b5a48",
   "metadata": {
    "pycharm": {
     "name": "#%%\n"
    }
   },
   "outputs": [
    {
     "data": {
      "text/plain": [
       "[2563, 2762]"
      ]
     },
     "execution_count": 17,
     "metadata": {},
     "output_type": "execute_result"
    }
   ],
   "source": [
    "tokenizer.convert_tokens_to_ids(['england', \"germany\"])"
   ]
  },
  {
   "cell_type": "code",
   "execution_count": 18,
   "id": "bd7d985b-c3ac-4a4d-9eeb-e6b4d9ac076e",
   "metadata": {
    "pycharm": {
     "name": "#%%\n"
    }
   },
   "outputs": [
    {
     "data": {
      "text/plain": [
       "'g e r m a n y'"
      ]
     },
     "execution_count": 18,
     "metadata": {},
     "output_type": "execute_result"
    }
   ],
   "source": [
    "tokenizer.decode(2762)"
   ]
  },
  {
   "cell_type": "code",
   "execution_count": 19,
   "id": "d7c445cf-5a15-4bab-b36f-f6739e556825",
   "metadata": {
    "pycharm": {
     "name": "#%%\n"
    }
   },
   "outputs": [
    {
     "ename": "AttributeError",
     "evalue": "'PromptModel' object has no attribute 'load'",
     "output_type": "error",
     "traceback": [
      "\u001B[0;31m---------------------------------------------------------------------------\u001B[0m",
      "\u001B[0;31mAttributeError\u001B[0m                            Traceback (most recent call last)",
      "Input \u001B[0;32mIn [19]\u001B[0m, in \u001B[0;36m<cell line: 1>\u001B[0;34m()\u001B[0m\n\u001B[0;32m----> 1\u001B[0m \u001B[43mmined_prompt_model\u001B[49m\u001B[38;5;241;43m.\u001B[39;49m\u001B[43mload\u001B[49m()\n",
      "File \u001B[0;32m~/projects/ContextualKnowledgeOfLMs/ma-env/lib/python3.8/site-packages/torch/nn/modules/module.py:1185\u001B[0m, in \u001B[0;36mModule.__getattr__\u001B[0;34m(self, name)\u001B[0m\n\u001B[1;32m   1183\u001B[0m     \u001B[38;5;28;01mif\u001B[39;00m name \u001B[38;5;129;01min\u001B[39;00m modules:\n\u001B[1;32m   1184\u001B[0m         \u001B[38;5;28;01mreturn\u001B[39;00m modules[name]\n\u001B[0;32m-> 1185\u001B[0m \u001B[38;5;28;01mraise\u001B[39;00m \u001B[38;5;167;01mAttributeError\u001B[39;00m(\u001B[38;5;124m\"\u001B[39m\u001B[38;5;124m'\u001B[39m\u001B[38;5;132;01m{}\u001B[39;00m\u001B[38;5;124m'\u001B[39m\u001B[38;5;124m object has no attribute \u001B[39m\u001B[38;5;124m'\u001B[39m\u001B[38;5;132;01m{}\u001B[39;00m\u001B[38;5;124m'\u001B[39m\u001B[38;5;124m\"\u001B[39m\u001B[38;5;241m.\u001B[39mformat(\n\u001B[1;32m   1186\u001B[0m     \u001B[38;5;28mtype\u001B[39m(\u001B[38;5;28mself\u001B[39m)\u001B[38;5;241m.\u001B[39m\u001B[38;5;18m__name__\u001B[39m, name))\n",
      "\u001B[0;31mAttributeError\u001B[0m: 'PromptModel' object has no attribute 'load'"
     ]
    }
   ],
   "source": [
    "mined_prompt_model.load()"
   ]
  }
 ],
 "metadata": {
  "kernelspec": {
   "display_name": "Python 3 (ipykernel)",
   "language": "python",
   "name": "python3"
  },
  "language_info": {
   "codemirror_mode": {
    "name": "ipython",
    "version": 3
   },
   "file_extension": ".py",
   "mimetype": "text/x-python",
   "name": "python",
   "nbconvert_exporter": "python",
   "pygments_lexer": "ipython3",
   "version": "3.8.9"
  }
 },
 "nbformat": 4,
 "nbformat_minor": 5
}