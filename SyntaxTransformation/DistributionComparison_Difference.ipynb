{
 "cells": [
  {
   "cell_type": "code",
   "execution_count": 1,
   "id": "544f83fd-cb39-4307-b7cc-d89920b4bbef",
   "metadata": {},
   "outputs": [],
   "source": [
    "from transformers import logging\n",
    "from transformers import BertModel, BertTokenizer\n",
    "from transformers import pipeline\n",
    "import torch\n",
    "import torch.nn as nn\n",
    "from torch.nn.functional import normalize, log_softmax"
   ]
  },
  {
   "cell_type": "code",
   "execution_count": 2,
   "id": "b77df498-11e6-47b7-879d-f1ab56173426",
   "metadata": {},
   "outputs": [],
   "source": [
    "logging.set_verbosity_error()\n",
    "import os\n",
    "os.environ[\"TOKENIZERS_PARALLELISM\"] = \"false\""
   ]
  },
  {
   "cell_type": "code",
   "execution_count": 3,
   "id": "f6196cd3-ba44-4c5f-b9a3-bea42e2c5206",
   "metadata": {},
   "outputs": [],
   "source": [
    "from LamaTRExData import LamaTRExData\n",
    "from DistributionComparison.DistributionComparisonResult import DistributionComparisonResult \n",
    "from DistributionComparison.SentenceTypologyEmbeddingDistributionComparison import SentenceTypologyEmbeddingDistributionComparison \n",
    "from ModelHelpers.fill_mask_helpers import get_probability_from_pipeline_for_token\n",
    "from relation_templates.templates import get_templates, get_relation_meta, relations, relation_names\n",
    "from PipelineCacheWrapper.PipelineCacheWrapper import PipelineCacheWrapper"
   ]
  },
  {
   "cell_type": "code",
   "execution_count": 4,
   "id": "2ce2afb6-7651-4c85-840b-f78fb9237ba9",
   "metadata": {},
   "outputs": [],
   "source": [
    "USELESS_WORD = \"Erftwerk\"\n",
    "UNKNOWN_TOKEN = \"[UNK]\"\n",
    "MASK = \"[MASK]\"\n",
    "OBJ_LABEL = \"obj-label\"\n",
    "SUBJ_LABEL = \"sub-label\"\n",
    "VOCABULARY_SIZE = 28996\n",
    "words = [] "
   ]
  },
  {
   "cell_type": "code",
   "execution_count": 5,
   "id": "de7bce30-fcb2-4735-8bd0-b40d0f545fd0",
   "metadata": {},
   "outputs": [
    {
     "data": {
      "text/plain": [
       "4"
      ]
     },
     "execution_count": 5,
     "metadata": {},
     "output_type": "execute_result"
    }
   ],
   "source": [
    "#relations = [\"P140\", \"P127\", \"P36\", \"P159\"]\n",
    "#relations = [\"P1303\"]\n",
    "relations = [\"P19\", \"P413\", \"P159\", \"P103\"]\n",
    "len(relations)"
   ]
  },
  {
   "cell_type": "code",
   "execution_count": 6,
   "id": "29f98d0f-aa14-4d97-aa79-865df1d46f2c",
   "metadata": {},
   "outputs": [
    {
     "name": "stdout",
     "output_type": "stream",
     "text": [
      "CPU times: user 1min 4s, sys: 1min 15s, total: 2min 19s\n",
      "Wall time: 4min 8s\n"
     ]
    }
   ],
   "source": [
    "%%time\n",
    "model = PipelineCacheWrapper('fill-mask', model=\"bert-base-cased\", top_k=VOCABULARY_SIZE)"
   ]
  },
  {
   "cell_type": "code",
   "execution_count": 7,
   "id": "804a42d8-e31d-4219-9e1c-66ac18431038",
   "metadata": {},
   "outputs": [],
   "source": [
    "TREx = LamaTRExData(relations = relations)\n",
    "TREx.load()"
   ]
  },
  {
   "cell_type": "code",
   "execution_count": 8,
   "id": "3ffd361a-c092-400b-a394-5a3b55f5e5ab",
   "metadata": {},
   "outputs": [],
   "source": [
    "@torch.no_grad()\n",
    "def metric(left_sentence: str, right_sentence: str, token: str):\n",
    "    left_prob = get_probability_from_pipeline_for_token(model(left_sentence), token)\n",
    "    right_prob = get_probability_from_pipeline_for_token(model(right_sentence), token)\n",
    "    return left_prob-right_prob"
   ]
  },
  {
   "cell_type": "code",
   "execution_count": 9,
   "id": "28b7a64a-51e5-460c-8978-461ce1ba3c9e",
   "metadata": {},
   "outputs": [],
   "source": [
    "Comparer = SentenceTypologyEmbeddingDistributionComparison(relations, get_templates, words, metric, MASK, get_relation_meta, \"probability difference\")"
   ]
  },
  {
   "cell_type": "code",
   "execution_count": 10,
   "id": "87c14b5d-1fd2-4619-b23a-0da5c8c2b654",
   "metadata": {},
   "outputs": [],
   "source": [
    "nr_of_compared_triplets = 1000"
   ]
  },
  {
   "cell_type": "code",
   "execution_count": null,
   "id": "3f684127-4e6f-4868-b967-ba395d6f63b7",
   "metadata": {
    "scrolled": true,
    "tags": []
   },
   "outputs": [
    {
     "name": "stderr",
     "output_type": "stream",
     "text": [
      " 77%|█████████████████████████████████████████████████████████████████████████████████████████████████████████████████████████████████████████████████████████████████████████████████████████████████████████████████████████████████████████████████████████████████████████████████████████████████████▋                                                                                         | 724/944 [41:29<06:58,  1.90s/it]"
     ]
    }
   ],
   "source": [
    "Comparer.compare(TREx.data, nr_of_compared_triplets)"
   ]
  },
  {
   "cell_type": "code",
   "execution_count": null,
   "id": "cc509269-583b-40a3-81ff-bdfe5ee38b21",
   "metadata": {},
   "outputs": [],
   "source": [
    "%%time\n",
    "model.save_to_cache()"
   ]
  },
  {
   "cell_type": "code",
   "execution_count": null,
   "id": "f7c46442-e9f9-4b19-8b5a-aa57133c5a4f",
   "metadata": {},
   "outputs": [],
   "source": [
    "pairs_to_compare = [(\"simple\", \"compound-complex\"), (\"simple\", \"complex\"),  (\"simple\", \"compound\")]\n",
    "#pairs_to_compare = [(\"simple\", \"compound\")]"
   ]
  },
  {
   "cell_type": "code",
   "execution_count": null,
   "id": "8ece4de7-2805-4bfa-9419-6dd25fef7c69",
   "metadata": {},
   "outputs": [],
   "source": [
    "Comparer.print_comparison(\"P19\", SUBJ_LABEL, pairs_to_compare)"
   ]
  },
  {
   "cell_type": "code",
   "execution_count": null,
   "id": "b6acab61-3d64-48e1-81c2-1e1356f62ba0",
   "metadata": {},
   "outputs": [],
   "source": [
    "Comparer.print_comparison(\"P413\", SUBJ_LABEL, pairs_to_compare)"
   ]
  },
  {
   "cell_type": "code",
   "execution_count": null,
   "id": "ad5438ea-f69b-4669-9d30-bd50da82b662",
   "metadata": {},
   "outputs": [],
   "source": [
    "Comparer.print_comparison(\"P159\", SUBJ_LABEL, pairs_to_compare)"
   ]
  },
  {
   "cell_type": "code",
   "execution_count": null,
   "id": "ed791f06-d6ed-4097-abb8-f6583fa708b8",
   "metadata": {},
   "outputs": [],
   "source": [
    "Comparer.print_comparison(\"P103\", SUBJ_LABEL, pairs_to_compare)"
   ]
  },
  {
   "cell_type": "code",
   "execution_count": null,
   "id": "8d857efc-6243-4d76-86d1-c18d8f2b9159",
   "metadata": {},
   "outputs": [],
   "source": [
    "Comparer.print_global_comparison()"
   ]
  },
  {
   "cell_type": "code",
   "execution_count": null,
   "id": "34b0ff28-bfbf-4446-b4a7-ae89440c6679",
   "metadata": {},
   "outputs": [],
   "source": [
    "Comparer.print_global_for_latex()"
   ]
  },
  {
   "cell_type": "code",
   "execution_count": null,
   "id": "82e6ebb1-4ba8-44a2-af76-ac02a5d3853a",
   "metadata": {},
   "outputs": [],
   "source": [
    "import numpy as np"
   ]
  },
  {
   "cell_type": "code",
   "execution_count": null,
   "id": "47cdf744-1d52-45be-8bf0-a800c3a5151b",
   "metadata": {},
   "outputs": [],
   "source": [
    "np.mean(Comparer.results.results[\"P131\"]['sub-label'][\"simple\"][\"compound\"])"
   ]
  },
  {
   "cell_type": "code",
   "execution_count": null,
   "id": "32a40070-0c21-41a0-93f2-1f59986ab0d0",
   "metadata": {},
   "outputs": [],
   "source": [
    "np.mean(Comparer.results.results[\"P131\"]['sub-label'][\"simple\"][\"compound-complex\"])"
   ]
  },
  {
   "cell_type": "code",
   "execution_count": null,
   "id": "f5c1ebc4-f188-4b56-9ea5-690c4aacf53e",
   "metadata": {},
   "outputs": [],
   "source": []
  }
 ],
 "metadata": {
  "kernelspec": {
   "display_name": "Python 3 (ipykernel)",
   "language": "python",
   "name": "python3"
  },
  "language_info": {
   "codemirror_mode": {
    "name": "ipython",
    "version": 3
   },
   "file_extension": ".py",
   "mimetype": "text/x-python",
   "name": "python",
   "nbconvert_exporter": "python",
   "pygments_lexer": "ipython3",
   "version": "3.8.9"
  }
 },
 "nbformat": 4,
 "nbformat_minor": 5
}
