{
 "cells": [
  {
   "cell_type": "code",
   "execution_count": 1,
   "id": "544f83fd-cb39-4307-b7cc-d89920b4bbef",
   "metadata": {},
   "outputs": [],
   "source": [
    "from transformers import logging\n",
    "from transformers import BertModel, BertTokenizer\n",
    "from transformers import pipeline\n",
    "import torch\n",
    "import torch.nn as nn\n",
    "from torch.nn.functional import normalize, log_softmax"
   ]
  },
  {
   "cell_type": "code",
   "execution_count": 2,
   "id": "b77df498-11e6-47b7-879d-f1ab56173426",
   "metadata": {},
   "outputs": [],
   "source": [
    "logging.set_verbosity_error()\n",
    "import os\n",
    "os.environ[\"TOKENIZERS_PARALLELISM\"] = \"false\""
   ]
  },
  {
   "cell_type": "code",
   "execution_count": 3,
   "id": "f6196cd3-ba44-4c5f-b9a3-bea42e2c5206",
   "metadata": {},
   "outputs": [],
   "source": [
    "from TRExData.LamaTRExData import LamaTRExData\n",
    "\n",
    "from ModelHelpers.fill_mask_helpers import get_probability_from_pipeline_for_token\n",
    "from relation_templates.templates import get_templates, get_relation_meta, relations, relation_names, get_relations_with_last_digit\n",
    "from PipelineCacheWrapper.PipelineCacheWrapper import PipelineCacheWrapper"
   ]
  },
  {
   "cell_type": "code",
   "execution_count": 4,
   "id": "cebfa03d-1b74-484b-80d0-f2501754a948",
   "metadata": {},
   "outputs": [],
   "source": [
    "from SentenceComparison.SentenceComparison import SentenceComparison \n",
    "from ResultData.ResultPersister import ResultPersister"
   ]
  },
  {
   "cell_type": "code",
   "execution_count": 5,
   "id": "dfd4c38c-8360-44eb-8fd8-d687431f60a6",
   "metadata": {},
   "outputs": [],
   "source": [
    "model='bert-base-uncased'\n",
    "data_source = \"complete\"\n",
    "TOP_K = 500"
   ]
  },
  {
   "cell_type": "code",
   "execution_count": 6,
   "id": "2ce2afb6-7651-4c85-840b-f78fb9237ba9",
   "metadata": {},
   "outputs": [],
   "source": [
    "USELESS_WORD = \"Erftwerk\"\n",
    "UNKNOWN_TOKEN = \"[UNK]\"\n",
    "MASK = \"[MASK]\"\n",
    "OBJ_LABEL = \"obj-label\"\n",
    "SUBJ_LABEL = \"sub-label\"\n",
    "VOCABULARY_SIZE = 28996\n",
    "words = [] "
   ]
  },
  {
   "cell_type": "code",
   "execution_count": 7,
   "id": "de7bce30-fcb2-4735-8bd0-b40d0f545fd0",
   "metadata": {},
   "outputs": [
    {
     "data": {
      "text/plain": [
       "8"
      ]
     },
     "execution_count": 7,
     "metadata": {},
     "output_type": "execute_result"
    }
   ],
   "source": [
    "#relations = [\"P140\", \"P127\", \"P36\", \"P159\"]\n",
    "#relations = [\"P19\"]\n",
    "#relations = [\"P19\", \"P413\", \"P159\", \"P103\"]\n",
    "relations = get_relations_with_last_digit(7)\n",
    "len(relations)"
   ]
  },
  {
   "cell_type": "code",
   "execution_count": 8,
   "id": "29f98d0f-aa14-4d97-aa79-865df1d46f2c",
   "metadata": {},
   "outputs": [
    {
     "name": "stdout",
     "output_type": "stream",
     "text": [
      "CPU times: user 1.1 s, sys: 209 ms, total: 1.31 s\n",
      "Wall time: 10.6 s\n"
     ]
    }
   ],
   "source": [
    "%%time\n",
    "unmasker = pipeline('fill-mask', model=\"bert-base-cased\", top_k=VOCABULARY_SIZE)\n",
    "#unmasker = PipelineCacheWrapper('fill-mask', model=model, top_k=TOP_K)"
   ]
  },
  {
   "cell_type": "code",
   "execution_count": 9,
   "id": "804a42d8-e31d-4219-9e1c-66ac18431038",
   "metadata": {},
   "outputs": [],
   "source": [
    "TREx = LamaTRExData(relations = relations)\n",
    "TREx.load()"
   ]
  },
  {
   "cell_type": "code",
   "execution_count": 10,
   "id": "3ffd361a-c092-400b-a394-5a3b55f5e5ab",
   "metadata": {},
   "outputs": [],
   "source": [
    "@torch.no_grad()\n",
    "def metric(sentence: str, token: str):\n",
    "    prob = get_probability_from_pipeline_for_token(unmasker(sentence), token)\n",
    "    return prob"
   ]
  },
  {
   "cell_type": "code",
   "execution_count": 11,
   "id": "28b7a64a-51e5-460c-8978-461ce1ba3c9e",
   "metadata": {},
   "outputs": [],
   "source": [
    "Comparer = SentenceComparison(relations, get_templates, metric, MASK, get_relation_meta)"
   ]
  },
  {
   "cell_type": "code",
   "execution_count": 12,
   "id": "3f684127-4e6f-4868-b967-ba395d6f63b7",
   "metadata": {
    "scrolled": true,
    "tags": []
   },
   "outputs": [
    {
     "name": "stderr",
     "output_type": "stream",
     "text": [
      "100%|█████████████████████████████████████████████████████████████████████████████████████████████████████████████████████████████████████████████████████████████████████████| 966/966 [28:50<00:00,  1.79s/it]\n",
      "100%|█████████████████████████████████████████████████████████████████████████████████████████████████████████████████████████████████████████████████████████████████████████| 930/930 [27:09<00:00,  1.75s/it]\n",
      "100%|█████████████████████████████████████████████████████████████████████████████████████████████████████████████████████████████████████████████████████████████████████████| 877/877 [26:01<00:00,  1.78s/it]\n",
      "100%|█████████████████████████████████████████████████████████████████████████████████████████████████████████████████████████████████████████████████████████████████████████| 966/966 [28:27<00:00,  1.77s/it]\n",
      "100%|█████████████████████████████████████████████████████████████████████████████████████████████████████████████████████████████████████████████████████████████████████████| 922/922 [26:32<00:00,  1.73s/it]\n",
      "100%|█████████████████████████████████████████████████████████████████████████████████████████████████████████████████████████████████████████████████████████████████████████| 954/954 [28:09<00:00,  1.77s/it]\n",
      "100%|█████████████████████████████████████████████████████████████████████████████████████████████████████████████████████████████████████████████████████████████████████████| 687/687 [19:47<00:00,  1.73s/it]\n",
      "100%|█████████████████████████████████████████████████████████████████████████████████████████████████████████████████████████████████████████████████████████████████████████| 976/976 [28:10<00:00,  1.73s/it]\n"
     ]
    }
   ],
   "source": [
    "Comparer.compare(TREx.data)"
   ]
  },
  {
   "cell_type": "code",
   "execution_count": 13,
   "id": "9df77757-10b1-43ed-b681-74a6ef5ad418",
   "metadata": {},
   "outputs": [
    {
     "name": "stdout",
     "output_type": "stream",
     "text": [
      "CPU times: user 0 ns, sys: 0 ns, total: 0 ns\n",
      "Wall time: 2.15 µs\n"
     ]
    }
   ],
   "source": [
    "%%time\n",
    "#unmasker.save_to_cache()"
   ]
  },
  {
   "cell_type": "code",
   "execution_count": 14,
   "id": "ed1cc017-2abf-4a77-81fc-2dc397d5c660",
   "metadata": {},
   "outputs": [],
   "source": [
    "measure = \"correct token probability\"\n",
    "persister = ResultPersister(model=model, measure=measure, data_source=data_source)"
   ]
  },
  {
   "cell_type": "code",
   "execution_count": 15,
   "id": "f6e9b3a1-fc69-4ed4-ae0b-ab6924c40c02",
   "metadata": {},
   "outputs": [
    {
     "name": "stderr",
     "output_type": "stream",
     "text": [
      "/Users/tim/projects/ContextualKnowledgeOfLMs/ma-env/lib/python3.8/site-packages/numpy/core/fromnumeric.py:3474: RuntimeWarning: Mean of empty slice.\n",
      "  return _methods._mean(a, axis=axis, dtype=dtype,\n",
      "/Users/tim/projects/ContextualKnowledgeOfLMs/ma-env/lib/python3.8/site-packages/numpy/core/_methods.py:189: RuntimeWarning: invalid value encountered in double_scalars\n",
      "  ret = ret.dtype.type(ret / rcount)\n"
     ]
    }
   ],
   "source": [
    "persister.persist(Comparer.results_for_persistence())\n",
    "persister.close()"
   ]
  },
  {
   "cell_type": "code",
   "execution_count": null,
   "id": "40ac56ac-b270-49ce-8f85-a41376dfafd0",
   "metadata": {},
   "outputs": [],
   "source": []
  }
 ],
 "metadata": {
  "kernelspec": {
   "display_name": "Python 3 (ipykernel)",
   "language": "python",
   "name": "python3"
  },
  "language_info": {
   "codemirror_mode": {
    "name": "ipython",
    "version": 3
   },
   "file_extension": ".py",
   "mimetype": "text/x-python",
   "name": "python",
   "nbconvert_exporter": "python",
   "pygments_lexer": "ipython3",
   "version": "3.9.6"
  }
 },
 "nbformat": 4,
 "nbformat_minor": 5
}
