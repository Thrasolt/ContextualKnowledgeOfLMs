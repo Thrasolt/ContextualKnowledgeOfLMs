{
 "cells": [
  {
   "cell_type": "code",
   "execution_count": 1,
   "id": "bc21928c-3afd-40d1-acc8-5455f88b2265",
   "metadata": {
    "pycharm": {
     "name": "#%%\n"
    }
   },
   "outputs": [],
   "source": [
    "import torch\n",
    "import torch.optim as optim\n",
    "import torch.nn as nn\n",
    "from torch.utils.data import DataLoader\n",
    "from transformers import logging\n",
    "from transformers import pipeline\n",
    "from transformers import BertTokenizer, BertModel\n",
    "from tqdm import tqdm"
   ]
  },
  {
   "cell_type": "code",
   "execution_count": 2,
   "id": "8309934f-daf6-4544-a54c-158d73f7bcc5",
   "metadata": {
    "pycharm": {
     "name": "#%%\n"
    }
   },
   "outputs": [],
   "source": [
    "from LamaTRExData import LamaTRExData\n",
    "from SentenceTypologyQueryResults import SentenceTypologyQueryResults\n",
    "from relation_templates.templates import relations"
   ]
  },
  {
   "cell_type": "code",
   "execution_count": 3,
   "id": "c693f6b1",
   "metadata": {
    "collapsed": false,
    "jupyter": {
     "outputs_hidden": false
    },
    "pycharm": {
     "name": "#%%\n"
    }
   },
   "outputs": [],
   "source": [
    "from TypologyQuerier import TypologyQuerier \n",
    "from PipelineCacheWrapper.PipelineCacheWrapper import PipelineCacheWrapper"
   ]
  },
  {
   "cell_type": "code",
   "execution_count": 4,
   "id": "db899883-f784-4009-96b5-3c5dfe396ffa",
   "metadata": {},
   "outputs": [],
   "source": [
    "logging.set_verbosity_error()"
   ]
  },
  {
   "cell_type": "code",
   "execution_count": 5,
   "id": "ed26e48d",
   "metadata": {
    "collapsed": false,
    "jupyter": {
     "outputs_hidden": false
    },
    "pycharm": {
     "name": "#%%\n"
    }
   },
   "outputs": [],
   "source": [
    "MASK = \"[MASK]\""
   ]
  },
  {
   "cell_type": "code",
   "execution_count": 6,
   "id": "df6dee06",
   "metadata": {
    "collapsed": false,
    "jupyter": {
     "outputs_hidden": false
    },
    "pycharm": {
     "name": "#%%\n"
    }
   },
   "outputs": [],
   "source": [
    "#relations = [\"P19\", \"P36\", \"P101\", \"P103\",\"P106\",\"P108\", \"P178\", \"P1001\"]\n",
    "relations = [\"P36\", \"P1376\"]"
   ]
  },
  {
   "cell_type": "code",
   "execution_count": 7,
   "id": "020fc25e",
   "metadata": {
    "collapsed": false,
    "jupyter": {
     "outputs_hidden": false
    },
    "pycharm": {
     "name": "#%%\n"
    }
   },
   "outputs": [],
   "source": [
    "TOP_K = 1"
   ]
  },
  {
   "cell_type": "code",
   "execution_count": 8,
   "id": "b84e3380",
   "metadata": {
    "collapsed": false,
    "jupyter": {
     "outputs_hidden": false
    },
    "pycharm": {
     "name": "#%%\n"
    }
   },
   "outputs": [],
   "source": [
    "#unmasker = pipeline('fill-mask', model='bert-large-uncased-whole-word-masking', top_k=100)\n",
    "unmasker = PipelineCacheWrapper('fill-mask', model='bert-base-cased', top_k=TOP_K)"
   ]
  },
  {
   "cell_type": "code",
   "execution_count": 9,
   "id": "e7fcbf2e-dd6c-41a4-8bcf-999653b3009b",
   "metadata": {
    "pycharm": {
     "name": "#%%\n"
    }
   },
   "outputs": [],
   "source": [
    "TREx = LamaTRExData(relations = relations)\n",
    "TREx.load()"
   ]
  },
  {
   "cell_type": "code",
   "execution_count": 10,
   "id": "38481f8d-3154-4c48-a370-6d15826c9bdc",
   "metadata": {},
   "outputs": [],
   "source": [
    "querier = TypologyQuerier(unmasker, relations, TOP_K, MASK)"
   ]
  },
  {
   "cell_type": "code",
   "execution_count": 11,
   "id": "7999b3a2-765c-4ad8-bc3a-2efcf275ddbd",
   "metadata": {},
   "outputs": [
    {
     "name": "stderr",
     "output_type": "stream",
     "text": [
      "100%|████████████████████████████████████████████████████████████████████████████████████████████████████████████████████████████████████████████████████████████████████████████████████████████████████████████████████████████████████████████████████████████████████████████████████████████████████████| 703/703 [00:00<00:00, 33121.36it/s]\n",
      "100%|████████████████████████████████████████████████████████████████████████████████████████████████████████████████████████████████████████████████████████████████████████████████████████████████████████████████████████████████████████████████████████████████████████████████████████████████████████| 234/234 [00:00<00:00, 27203.28it/s]\n"
     ]
    }
   ],
   "source": [
    "querier.query(TREx.data)"
   ]
  },
  {
   "cell_type": "code",
   "execution_count": 12,
   "id": "e05345c9-0d20-4b2b-8be1-a1b437483107",
   "metadata": {},
   "outputs": [
    {
     "name": "stdout",
     "output_type": "stream",
     "text": [
      "CPU times: user 79.5 ms, sys: 20.7 ms, total: 100 ms\n",
      "Wall time: 99.9 ms\n"
     ]
    }
   ],
   "source": [
    "%%time\n",
    "unmasker.save_to_cache()"
   ]
  },
  {
   "cell_type": "code",
   "execution_count": 13,
   "id": "f61737e0-1a07-4c88-9ecf-70109078a50a",
   "metadata": {},
   "outputs": [
    {
     "name": "stdout",
     "output_type": "stream",
     "text": [
      "P36: capital 1:1\n",
      "| type             |   correct |   total |   accuracy |\n",
      "|------------------+-----------+---------+------------|\n",
      "| simple           |       437 |     703 |    62.1622 |\n",
      "| compound         |       434 |     703 |    61.7354 |\n",
      "| complex          |       422 |     703 |    60.0284 |\n",
      "| compound-complex |       279 |     703 |    39.6871 |\n",
      "P1376: capital of 1:1\n",
      "| type             |   correct |   total |   accuracy |\n",
      "|------------------+-----------+---------+------------|\n",
      "| simple           |       173 |     234 |    73.9316 |\n",
      "| compound         |       170 |     234 |    72.6496 |\n",
      "| complex          |       173 |     234 |    73.9316 |\n",
      "| compound-complex |       172 |     234 |    73.5043 |\n"
     ]
    }
   ],
   "source": [
    "querier.print_result()"
   ]
  },
  {
   "cell_type": "code",
   "execution_count": 14,
   "id": "1532a481-f1ea-421a-b843-dd3c137622b2",
   "metadata": {},
   "outputs": [
    {
     "name": "stdout",
     "output_type": "stream",
     "text": [
      "P1376 & capital of & 1:1 & 73.93 & 72.65 & 73.93 & 73.50 \\\\\n",
      "P36 & capital & 1:1 & 62.16 & 61.74 & 60.03 & 39.69 \\\\\n"
     ]
    }
   ],
   "source": [
    "querier.print_for_latex()"
   ]
  },
  {
   "cell_type": "code",
   "execution_count": 15,
   "id": "4a8ff2c8-99b1-47f9-955f-887b0708bd81",
   "metadata": {},
   "outputs": [],
   "source": [
    "TOP_K = 10"
   ]
  },
  {
   "cell_type": "code",
   "execution_count": 16,
   "id": "82d61768-0707-4bfd-9309-e0cc37168a5f",
   "metadata": {},
   "outputs": [],
   "source": [
    "unmasker = PipelineCacheWrapper('fill-mask', model='bert-base-cased', top_k=TOP_K)"
   ]
  },
  {
   "cell_type": "code",
   "execution_count": 17,
   "id": "7b9602ba-fc3c-4778-8a5e-9044d4eb4457",
   "metadata": {},
   "outputs": [],
   "source": [
    "querier.reset()\n",
    "querier.set_top_k(TOP_K)\n",
    "querier.set_model(unmasker)\n"
   ]
  },
  {
   "cell_type": "code",
   "execution_count": 18,
   "id": "a5a762de-3700-4f1e-a1b2-e80f7eb7c510",
   "metadata": {},
   "outputs": [
    {
     "name": "stderr",
     "output_type": "stream",
     "text": [
      "100%|████████████████████████████████████████████████████████████████████████████████████████████████████████████████████████████████████████████████████████████████████████████████████████████████████████████████████████████████████████████████████████████████████████████████████████████████████████| 703/703 [00:00<00:00, 34134.77it/s]\n",
      "100%|████████████████████████████████████████████████████████████████████████████████████████████████████████████████████████████████████████████████████████████████████████████████████████████████████████████████████████████████████████████████████████████████████████████████████████████████████████| 234/234 [00:00<00:00, 28179.60it/s]\n"
     ]
    }
   ],
   "source": [
    "querier.query(TREx.data)"
   ]
  },
  {
   "cell_type": "code",
   "execution_count": 19,
   "id": "e9ce9a4b-737b-4ee1-9620-7cce8ac453fd",
   "metadata": {},
   "outputs": [
    {
     "name": "stdout",
     "output_type": "stream",
     "text": [
      "CPU times: user 815 ms, sys: 86.8 ms, total: 901 ms\n",
      "Wall time: 922 ms\n"
     ]
    }
   ],
   "source": [
    "%%time\n",
    "unmasker.save_to_cache()"
   ]
  },
  {
   "cell_type": "code",
   "execution_count": 20,
   "id": "593dafa5-2f74-4c3b-956b-f7a08c3b559a",
   "metadata": {},
   "outputs": [
    {
     "name": "stdout",
     "output_type": "stream",
     "text": [
      "P36: capital 1:1\n",
      "| type             |   correct |   total |   accuracy |\n",
      "|------------------+-----------+---------+------------|\n",
      "| simple           |       553 |     703 |    78.6629 |\n",
      "| compound         |       548 |     703 |    77.9516 |\n",
      "| complex          |       544 |     703 |    77.3826 |\n",
      "| compound-complex |       514 |     703 |    73.1152 |\n",
      "P1376: capital of 1:1\n",
      "| type             |   correct |   total |   accuracy |\n",
      "|------------------+-----------+---------+------------|\n",
      "| simple           |       214 |     234 |    91.453  |\n",
      "| compound         |       214 |     234 |    91.453  |\n",
      "| complex          |       213 |     234 |    91.0256 |\n",
      "| compound-complex |       213 |     234 |    91.0256 |\n"
     ]
    }
   ],
   "source": [
    "querier.print_result()"
   ]
  },
  {
   "cell_type": "code",
   "execution_count": 21,
   "id": "aeab7452-8a4a-495b-ab94-04bd0c053763",
   "metadata": {},
   "outputs": [
    {
     "name": "stdout",
     "output_type": "stream",
     "text": [
      "P1376 & capital of & 1:1 & 91.45 & 91.45 & 91.03 & 91.03 \\\\\n",
      "P36 & capital & 1:1 & 78.66 & 77.95 & 77.38 & 73.12 \\\\\n"
     ]
    }
   ],
   "source": [
    "querier.print_for_latex()"
   ]
  },
  {
   "cell_type": "code",
   "execution_count": 22,
   "id": "9a8824cd-af0b-4a3b-bed7-7a678cacfc18",
   "metadata": {},
   "outputs": [],
   "source": [
    "TOP_K = 100"
   ]
  },
  {
   "cell_type": "code",
   "execution_count": 23,
   "id": "485962c7-6b17-4fc0-b694-3c3122f5645d",
   "metadata": {},
   "outputs": [],
   "source": [
    "unmasker = PipelineCacheWrapper('fill-mask', model='bert-base-cased', top_k=TOP_K)"
   ]
  },
  {
   "cell_type": "code",
   "execution_count": 24,
   "id": "af4d6045-f572-43c4-8e28-747996627412",
   "metadata": {},
   "outputs": [],
   "source": [
    "querier.reset()\n",
    "querier.set_top_k(TOP_K)\n",
    "querier.set_model(unmasker)\n"
   ]
  },
  {
   "cell_type": "code",
   "execution_count": 25,
   "id": "2a2a11b2-3d0b-4adb-9e7c-cc34b1c0bd9d",
   "metadata": {},
   "outputs": [
    {
     "name": "stderr",
     "output_type": "stream",
     "text": [
      "100%|████████████████████████████████████████████████████████████████████████████████████████████████████████████████████████████████████████████████████████████████████████████████████████████████████████████████████████████████████████████████████████████████████████████████████████████████████████| 703/703 [00:00<00:00, 17501.99it/s]\n",
      "100%|████████████████████████████████████████████████████████████████████████████████████████████████████████████████████████████████████████████████████████████████████████████████████████████████████████████████████████████████████████████████████████████████████████████████████████████████████████| 234/234 [00:00<00:00, 16835.64it/s]\n"
     ]
    }
   ],
   "source": [
    "querier.query(TREx.data)"
   ]
  },
  {
   "cell_type": "code",
   "execution_count": 26,
   "id": "0ef8a1ff-67d3-4afa-8ca9-3aabd92cebae",
   "metadata": {},
   "outputs": [
    {
     "name": "stdout",
     "output_type": "stream",
     "text": [
      "CPU times: user 187 ms, sys: 19.8 ms, total: 207 ms\n",
      "Wall time: 206 ms\n"
     ]
    }
   ],
   "source": [
    "%%time\n",
    "unmasker.save_to_cache()"
   ]
  },
  {
   "cell_type": "code",
   "execution_count": 27,
   "id": "3a0cd75a-f194-4082-840f-9d23536e914d",
   "metadata": {},
   "outputs": [
    {
     "name": "stdout",
     "output_type": "stream",
     "text": [
      "P36: capital 1:1\n",
      "| type             |   correct |   total |   accuracy |\n",
      "|------------------+-----------+---------+------------|\n",
      "| simple           |       617 |     703 |    87.7667 |\n",
      "| compound         |       621 |     703 |    88.3357 |\n",
      "| complex          |       613 |     703 |    87.1977 |\n",
      "| compound-complex |       605 |     703 |    86.0597 |\n",
      "P1376: capital of 1:1\n",
      "| type             |   correct |   total |   accuracy |\n",
      "|------------------+-----------+---------+------------|\n",
      "| simple           |       226 |     234 |    96.5812 |\n",
      "| compound         |       226 |     234 |    96.5812 |\n",
      "| complex          |       227 |     234 |    97.0085 |\n",
      "| compound-complex |       226 |     234 |    96.5812 |\n"
     ]
    }
   ],
   "source": [
    "querier.print_result()"
   ]
  },
  {
   "cell_type": "code",
   "execution_count": 28,
   "id": "332fd77e-4cd6-493e-957d-62170b0a1faf",
   "metadata": {},
   "outputs": [
    {
     "name": "stdout",
     "output_type": "stream",
     "text": [
      "P1376 & capital of & 1:1 & 96.58 & 96.58 & 97.01 & 96.58 \\\\\n",
      "P36 & capital & 1:1 & 87.77 & 88.34 & 87.20 & 86.06 \\\\\n"
     ]
    }
   ],
   "source": [
    "querier.print_for_latex()"
   ]
  }
 ],
 "metadata": {
  "kernelspec": {
   "display_name": "Python 3 (ipykernel)",
   "language": "python",
   "name": "python3"
  },
  "language_info": {
   "codemirror_mode": {
    "name": "ipython",
    "version": 3
   },
   "file_extension": ".py",
   "mimetype": "text/x-python",
   "name": "python",
   "nbconvert_exporter": "python",
   "pygments_lexer": "ipython3",
   "version": "3.8.9"
  }
 },
 "nbformat": 4,
 "nbformat_minor": 5
}
