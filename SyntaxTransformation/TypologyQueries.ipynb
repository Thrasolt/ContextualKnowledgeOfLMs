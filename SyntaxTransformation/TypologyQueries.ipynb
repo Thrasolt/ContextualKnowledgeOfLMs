{
 "cells": [
  {
   "cell_type": "code",
   "execution_count": 1,
   "id": "bc21928c-3afd-40d1-acc8-5455f88b2265",
   "metadata": {
    "pycharm": {
     "name": "#%%\n"
    }
   },
   "outputs": [],
   "source": [
    "import torch\n",
    "import torch.optim as optim\n",
    "import torch.nn as nn\n",
    "from torch.utils.data import DataLoader\n",
    "from transformers import logging\n",
    "from transformers import pipeline\n",
    "from transformers import BertTokenizer, BertModel\n",
    "from tqdm import tqdm"
   ]
  },
  {
   "cell_type": "code",
   "execution_count": 2,
   "id": "8309934f-daf6-4544-a54c-158d73f7bcc5",
   "metadata": {
    "pycharm": {
     "name": "#%%\n"
    }
   },
   "outputs": [],
   "source": [
    "from LamaTRExData import LamaTRExData#\n",
    "from SentenceTypologyQueryResults import SentenceTypologyQueryResults"
   ]
  },
  {
   "cell_type": "code",
   "execution_count": 3,
   "id": "c693f6b1",
   "metadata": {
    "collapsed": false,
    "jupyter": {
     "outputs_hidden": false
    },
    "pycharm": {
     "name": "#%%\n"
    }
   },
   "outputs": [],
   "source": [
    "from relation_templates.templater import templater "
   ]
  },
  {
   "cell_type": "code",
   "execution_count": 4,
   "id": "db899883-f784-4009-96b5-3c5dfe396ffa",
   "metadata": {},
   "outputs": [],
   "source": [
    "logging.set_verbosity_error()"
   ]
  },
  {
   "cell_type": "code",
   "execution_count": 5,
   "id": "ed26e48d",
   "metadata": {
    "collapsed": false,
    "jupyter": {
     "outputs_hidden": false
    },
    "pycharm": {
     "name": "#%%\n"
    }
   },
   "outputs": [],
   "source": [
    "MASK = \"[MASK]\""
   ]
  },
  {
   "cell_type": "code",
   "execution_count": 6,
   "id": "df6dee06",
   "metadata": {
    "collapsed": false,
    "jupyter": {
     "outputs_hidden": false
    },
    "pycharm": {
     "name": "#%%\n"
    }
   },
   "outputs": [],
   "source": [
    "relations = [\"P19\", \"P36\", \"P101\", \"P178\"]\n",
    "#relations = [\"P178\"]"
   ]
  },
  {
   "cell_type": "code",
   "execution_count": 7,
   "id": "020fc25e",
   "metadata": {
    "collapsed": false,
    "jupyter": {
     "outputs_hidden": false
    },
    "pycharm": {
     "name": "#%%\n"
    }
   },
   "outputs": [],
   "source": [
    "TOP_K = 1"
   ]
  },
  {
   "cell_type": "code",
   "execution_count": 8,
   "id": "b84e3380",
   "metadata": {
    "collapsed": false,
    "jupyter": {
     "outputs_hidden": false
    },
    "pycharm": {
     "name": "#%%\n"
    }
   },
   "outputs": [],
   "source": [
    "#unmasker = pipeline('fill-mask', model='bert-large-uncased-whole-word-masking', top_k=100)\n",
    "unmasker = pipeline('fill-mask', model='bert-base-cased', top_k=10)"
   ]
  },
  {
   "cell_type": "code",
   "execution_count": 9,
   "id": "e7fcbf2e-dd6c-41a4-8bcf-999653b3009b",
   "metadata": {
    "pycharm": {
     "name": "#%%\n"
    }
   },
   "outputs": [],
   "source": [
    "TREx = LamaTRExData(relations = relations)\n",
    "TREx.load()"
   ]
  },
  {
   "cell_type": "code",
   "execution_count": 10,
   "id": "cb517b7a",
   "metadata": {
    "collapsed": false,
    "jupyter": {
     "outputs_hidden": false
    },
    "pycharm": {
     "name": "#%%\n"
    }
   },
   "outputs": [],
   "source": [
    "results = SentenceTypologyQueryResults(relations, TOP_K)"
   ]
  },
  {
   "cell_type": "code",
   "execution_count": 11,
   "id": "3380ed33-9214-4bf6-8b9d-70efca43972c",
   "metadata": {},
   "outputs": [],
   "source": [
    "qrs = {\"P19\": [], \"P36\": [], \"P101\": [], \"P178\": []}"
   ]
  },
  {
   "cell_type": "code",
   "execution_count": 12,
   "id": "0683c375-7d2c-4720-90cf-d64814ce3df3",
   "metadata": {
    "pycharm": {
     "name": "#%%\n"
    }
   },
   "outputs": [
    {
     "name": "stderr",
     "output_type": "stream",
     "text": [
      "100%|█████████████████████████████████████████████████████████████████████████████████████████████████████████████████████████████████████████████████████████████████████████| 944/944 [02:31<00:00,  6.22it/s]\n",
      "100%|█████████████████████████████████████████████████████████████████████████████████████████████████████████████████████████████████████████████████████████████████████████| 703/703 [01:51<00:00,  6.30it/s]\n",
      "100%|█████████████████████████████████████████████████████████████████████████████████████████████████████████████████████████████████████████████████████████████████████████| 696/696 [01:55<00:00,  6.05it/s]\n",
      "100%|█████████████████████████████████████████████████████████████████████████████████████████████████████████████████████████████████████████████████████████████████████████| 592/592 [01:34<00:00,  6.27it/s]\n"
     ]
    }
   ],
   "source": [
    "for relation in relations:\n",
    "    for sub, obj  in tqdm(TREx.data[relation]):\n",
    "        query_simple, query_compound, query_complex, query_complex_compound  = templater(relation, sub, MASK)\n",
    "        qrs[relation].append((sub, obj, query_simple))\n",
    "        res_simple = unmasker(query_simple)\n",
    "        res_compound = unmasker(query_compound)\n",
    "        res_complex = unmasker(query_complex)\n",
    "        res_complex_compound = unmasker(query_complex_compound)\n",
    "        results.process_answers(obj, relation, [res_simple, res_compound, res_complex, res_complex_compound])"
   ]
  },
  {
   "cell_type": "code",
   "execution_count": 13,
   "id": "c2f0c15e",
   "metadata": {
    "pycharm": {
     "name": "#%%\n"
    },
    "scrolled": true,
    "tags": []
   },
   "outputs": [
    {
     "name": "stdout",
     "output_type": "stream",
     "text": [
      "P19:\n",
      "| type             |   correct |   total |   accuracy |\n",
      "|------------------+-----------+---------+------------|\n",
      "| simple           |       199 |     944 |  21.0805   |\n",
      "| compound         |         2 |     944 |   0.211864 |\n",
      "| complex          |         2 |     944 |   0.211864 |\n",
      "| compound-complex |         0 |     944 |   0        |\n",
      "P36:\n",
      "| type             |   correct |   total |   accuracy |\n",
      "|------------------+-----------+---------+------------|\n",
      "| simple           |       288 |     703 |    40.9673 |\n",
      "| compound         |       422 |     703 |    60.0284 |\n",
      "| complex          |       277 |     703 |    39.4026 |\n",
      "| compound-complex |       399 |     703 |    56.7568 |\n",
      "P101:\n",
      "| type             |   correct |   total |   accuracy |\n",
      "|------------------+-----------+---------+------------|\n",
      "| simple           |         0 |     696 |          0 |\n",
      "| compound         |         0 |     696 |          0 |\n",
      "| complex          |         0 |     696 |          0 |\n",
      "| compound-complex |         0 |     696 |          0 |\n",
      "P178:\n",
      "| type             |   correct |   total |   accuracy |\n",
      "|------------------+-----------+---------+------------|\n",
      "| simple           |        86 |     592 |    14.527  |\n",
      "| compound         |       255 |     592 |    43.0743 |\n",
      "| complex          |         0 |     592 |     0      |\n",
      "| compound-complex |       126 |     592 |    21.2838 |\n"
     ]
    }
   ],
   "source": [
    "results.print_result()"
   ]
  },
  {
   "cell_type": "code",
   "execution_count": 14,
   "id": "4a8ff2c8-99b1-47f9-955f-887b0708bd81",
   "metadata": {},
   "outputs": [],
   "source": [
    "TOP_K = 10"
   ]
  },
  {
   "cell_type": "code",
   "execution_count": 15,
   "id": "593dafa5-2f74-4c3b-956b-f7a08c3b559a",
   "metadata": {},
   "outputs": [
    {
     "name": "stderr",
     "output_type": "stream",
     "text": [
      "100%|█████████████████████████████████████████████████████████████████████████████████████████████████████████████████████████████████████████████████████████████████████████| 944/944 [02:24<00:00,  6.52it/s]\n",
      "100%|█████████████████████████████████████████████████████████████████████████████████████████████████████████████████████████████████████████████████████████████████████████| 703/703 [01:42<00:00,  6.85it/s]\n",
      "100%|█████████████████████████████████████████████████████████████████████████████████████████████████████████████████████████████████████████████████████████████████████████| 696/696 [01:49<00:00,  6.34it/s]\n",
      "100%|█████████████████████████████████████████████████████████████████████████████████████████████████████████████████████████████████████████████████████████████████████████| 592/592 [01:30<00:00,  6.55it/s]\n"
     ]
    }
   ],
   "source": [
    "results = SentenceTypologyQueryResults(relations, TOP_K)\n",
    "for relation in relations:\n",
    "    for obj, sub in tqdm(TREx.data[relation]):\n",
    "        query_simple, query_compound, query_complex, query_complex_compound  = templater(relation, sub, MASK)\n",
    "        res_simple = unmasker(query_simple)\n",
    "        res_compound = unmasker(query_compound)\n",
    "        res_complex = unmasker(query_complex)\n",
    "        res_complex_compound = unmasker(query_complex_compound)\n",
    "        results.process_answers(obj, relation, [res_simple, res_compound, res_complex, res_complex_compound])"
   ]
  },
  {
   "cell_type": "code",
   "execution_count": 16,
   "id": "55e8ab0d-c1fb-4681-b155-4d700bf80dce",
   "metadata": {
    "pycharm": {
     "name": "#%%\n"
    }
   },
   "outputs": [
    {
     "name": "stdout",
     "output_type": "stream",
     "text": [
      "P19:\n",
      "| type             |   correct |   total |   accuracy |\n",
      "|------------------+-----------+---------+------------|\n",
      "| simple           |         0 |     944 |          0 |\n",
      "| compound         |         0 |     944 |          0 |\n",
      "| complex          |         0 |     944 |          0 |\n",
      "| compound-complex |         0 |     944 |          0 |\n",
      "P36:\n",
      "| type             |   correct |   total |   accuracy |\n",
      "|------------------+-----------+---------+------------|\n",
      "| simple           |       113 |     703 |    16.074  |\n",
      "| compound         |       117 |     703 |    16.643  |\n",
      "| complex          |         0 |     703 |     0      |\n",
      "| compound-complex |       129 |     703 |    18.3499 |\n",
      "P101:\n",
      "| type             |   correct |   total |   accuracy |\n",
      "|------------------+-----------+---------+------------|\n",
      "| simple           |         0 |     696 |          0 |\n",
      "| compound         |         0 |     696 |          0 |\n",
      "| complex          |         0 |     696 |          0 |\n",
      "| compound-complex |         0 |     696 |          0 |\n",
      "P178:\n",
      "| type             |   correct |   total |   accuracy |\n",
      "|------------------+-----------+---------+------------|\n",
      "| simple           |         0 |     592 |          0 |\n",
      "| compound         |         0 |     592 |          0 |\n",
      "| complex          |         0 |     592 |          0 |\n",
      "| compound-complex |         0 |     592 |          0 |\n"
     ]
    }
   ],
   "source": [
    "results.print_result()"
   ]
  },
  {
   "cell_type": "code",
   "execution_count": 17,
   "id": "485962c7-6b17-4fc0-b694-3c3122f5645d",
   "metadata": {},
   "outputs": [],
   "source": [
    "unmasker = pipeline('fill-mask', model='bert-base-cased', top_k=100)"
   ]
  },
  {
   "cell_type": "code",
   "execution_count": 18,
   "id": "9a8824cd-af0b-4a3b-bed7-7a678cacfc18",
   "metadata": {},
   "outputs": [],
   "source": [
    "TOP_K = 100"
   ]
  },
  {
   "cell_type": "code",
   "execution_count": 19,
   "id": "3a0cd75a-f194-4082-840f-9d23536e914d",
   "metadata": {},
   "outputs": [
    {
     "name": "stderr",
     "output_type": "stream",
     "text": [
      "100%|█████████████████████████████████████████████████████████████████████████████████████████████████████████████████████████████████████████████████████████████████████████| 944/944 [02:29<00:00,  6.29it/s]\n",
      "100%|█████████████████████████████████████████████████████████████████████████████████████████████████████████████████████████████████████████████████████████████████████████| 703/703 [01:48<00:00,  6.49it/s]\n",
      "100%|█████████████████████████████████████████████████████████████████████████████████████████████████████████████████████████████████████████████████████████████████████████| 696/696 [01:50<00:00,  6.30it/s]\n",
      "100%|█████████████████████████████████████████████████████████████████████████████████████████████████████████████████████████████████████████████████████████████████████████| 592/592 [01:30<00:00,  6.52it/s]\n"
     ]
    }
   ],
   "source": [
    "results = SentenceTypologyQueryResults(relations, TOP_K)\n",
    "for relation in relations:\n",
    "    for obj, sub  in tqdm(TREx.data[relation]):\n",
    "        query_simple, query_compound, query_complex, query_complex_compound  = templater(relation, sub, MASK)\n",
    "        res_simple = unmasker(query_simple)\n",
    "        res_compound = unmasker(query_compound)\n",
    "        res_complex = unmasker(query_complex)\n",
    "        res_complex_compound = unmasker(query_complex_compound)\n",
    "        results.process_answers(obj, relation, [res_simple, res_compound, res_complex, res_complex_compound])"
   ]
  },
  {
   "cell_type": "code",
   "execution_count": 20,
   "id": "a70ad143-d31c-4ace-995b-3c7736289673",
   "metadata": {},
   "outputs": [
    {
     "name": "stdout",
     "output_type": "stream",
     "text": [
      "P19:\n",
      "| type             |   correct |   total |   accuracy |\n",
      "|------------------+-----------+---------+------------|\n",
      "| simple           |         0 |     944 |          0 |\n",
      "| compound         |         0 |     944 |          0 |\n",
      "| complex          |         0 |     944 |          0 |\n",
      "| compound-complex |         0 |     944 |          0 |\n",
      "P36:\n",
      "| type             |   correct |   total |   accuracy |\n",
      "|------------------+-----------+---------+------------|\n",
      "| simple           |       137 |     703 |   19.4879  |\n",
      "| compound         |       137 |     703 |   19.4879  |\n",
      "| complex          |        28 |     703 |    3.98293 |\n",
      "| compound-complex |       138 |     703 |   19.6302  |\n",
      "P101:\n",
      "| type             |   correct |   total |   accuracy |\n",
      "|------------------+-----------+---------+------------|\n",
      "| simple           |         1 |     696 |   0.143678 |\n",
      "| compound         |         0 |     696 |   0        |\n",
      "| complex          |         0 |     696 |   0        |\n",
      "| compound-complex |         0 |     696 |   0        |\n",
      "P178:\n",
      "| type             |   correct |   total |   accuracy |\n",
      "|------------------+-----------+---------+------------|\n",
      "| simple           |         0 |     592 |          0 |\n",
      "| compound         |         0 |     592 |          0 |\n",
      "| complex          |         0 |     592 |          0 |\n",
      "| compound-complex |         0 |     592 |          0 |\n"
     ]
    }
   ],
   "source": [
    "results.print_result()"
   ]
  },
  {
   "cell_type": "code",
   "execution_count": null,
   "id": "56e042bb-f9bd-4e2a-b66d-e5b60c3730c2",
   "metadata": {},
   "outputs": [],
   "source": []
  }
 ],
 "metadata": {
  "kernelspec": {
   "display_name": "Python 3 (ipykernel)",
   "language": "python",
   "name": "python3"
  },
  "language_info": {
   "codemirror_mode": {
    "name": "ipython",
    "version": 3
   },
   "file_extension": ".py",
   "mimetype": "text/x-python",
   "name": "python",
   "nbconvert_exporter": "python",
   "pygments_lexer": "ipython3",
   "version": "3.8.9"
  }
 },
 "nbformat": 4,
 "nbformat_minor": 5
}
