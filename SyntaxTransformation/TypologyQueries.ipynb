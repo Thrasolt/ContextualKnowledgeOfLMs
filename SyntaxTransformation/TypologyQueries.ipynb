{
 "cells": [
  {
   "cell_type": "code",
   "execution_count": 1,
   "id": "bc21928c-3afd-40d1-acc8-5455f88b2265",
   "metadata": {
    "pycharm": {
     "name": "#%%\n"
    }
   },
   "outputs": [],
   "source": [
    "import torch\n",
    "import torch.optim as optim\n",
    "import torch.nn as nn\n",
    "from torch.utils.data import DataLoader\n",
    "from transformers import logging\n",
    "from transformers import pipeline\n",
    "from transformers import BertTokenizer, BertModel\n",
    "from tqdm import tqdm"
   ]
  },
  {
   "cell_type": "code",
   "execution_count": 2,
   "id": "8309934f-daf6-4544-a54c-158d73f7bcc5",
   "metadata": {
    "pycharm": {
     "name": "#%%\n"
    }
   },
   "outputs": [],
   "source": [
    "from TRExData.LamaTRExData import LamaTRExData\n",
    "from SentenceTypologyQueryResults import SentenceTypologyQueryResults\n",
    "from relation_templates.templates import relations, nominalized_relations"
   ]
  },
  {
   "cell_type": "code",
   "execution_count": 3,
   "id": "c693f6b1",
   "metadata": {
    "collapsed": false,
    "jupyter": {
     "outputs_hidden": false
    },
    "pycharm": {
     "name": "#%%\n"
    }
   },
   "outputs": [],
   "source": [
    "from TypologyQuerier import TypologyQuerier \n",
    "from PipelineCacheWrapper.PipelineCacheWrapper import PipelineCacheWrapper"
   ]
  },
  {
   "cell_type": "code",
   "execution_count": 4,
   "id": "db899883-f784-4009-96b5-3c5dfe396ffa",
   "metadata": {},
   "outputs": [],
   "source": [
    "logging.set_verbosity_error()"
   ]
  },
  {
   "cell_type": "code",
   "execution_count": 5,
   "id": "ed26e48d",
   "metadata": {
    "collapsed": false,
    "jupyter": {
     "outputs_hidden": false
    },
    "pycharm": {
     "name": "#%%\n"
    }
   },
   "outputs": [],
   "source": [
    "MASK = \"[MASK]\""
   ]
  },
  {
   "cell_type": "code",
   "execution_count": 6,
   "id": "df6dee06",
   "metadata": {
    "collapsed": false,
    "jupyter": {
     "outputs_hidden": false
    },
    "pycharm": {
     "name": "#%%\n"
    }
   },
   "outputs": [],
   "source": [
    "#relations = [\"P19\", \"P36\", \"P101\", \"P103\",\"P106\",\"P108\", \"P178\", \"P1001\"]\n",
    "#relations = [\"P36\", \"P1376\"]\n",
    "relations = nominalized_relations"
   ]
  },
  {
   "cell_type": "code",
   "execution_count": 7,
   "id": "d76dac48-8e5a-4a40-be58-2d35afd97229",
   "metadata": {},
   "outputs": [],
   "source": [
    "keys = [\"active\", \"passive\", \"nominalized\"]"
   ]
  },
  {
   "cell_type": "code",
   "execution_count": 8,
   "id": "020fc25e",
   "metadata": {
    "collapsed": false,
    "jupyter": {
     "outputs_hidden": false
    },
    "pycharm": {
     "name": "#%%\n"
    }
   },
   "outputs": [],
   "source": [
    "TOP_K = 1"
   ]
  },
  {
   "cell_type": "code",
   "execution_count": null,
   "id": "b84e3380",
   "metadata": {
    "collapsed": false,
    "jupyter": {
     "outputs_hidden": false
    },
    "pycharm": {
     "name": "#%%\n"
    }
   },
   "outputs": [],
   "source": [
    "#unmasker = pipeline('fill-mask', model='bert-large-uncased-whole-word-masking', top_k=100)\n",
    "unmasker = PipelineCacheWrapper('fill-mask', model='bert-base-cased', top_k=TOP_K)"
   ]
  },
  {
   "cell_type": "code",
   "execution_count": null,
   "id": "e7fcbf2e-dd6c-41a4-8bcf-999653b3009b",
   "metadata": {
    "pycharm": {
     "name": "#%%\n"
    }
   },
   "outputs": [],
   "source": [
    "TREx = LamaTRExData(relations = relations)\n",
    "TREx.load()"
   ]
  },
  {
   "cell_type": "code",
   "execution_count": null,
   "id": "38481f8d-3154-4c48-a370-6d15826c9bdc",
   "metadata": {},
   "outputs": [],
   "source": [
    "querier = TypologyQuerier(unmasker, relations, TOP_K, MASK, keys)"
   ]
  },
  {
   "cell_type": "code",
   "execution_count": null,
   "id": "7999b3a2-765c-4ad8-bc3a-2efcf275ddbd",
   "metadata": {},
   "outputs": [],
   "source": [
    "querier.query(TREx.data)"
   ]
  },
  {
   "cell_type": "code",
   "execution_count": null,
   "id": "e05345c9-0d20-4b2b-8be1-a1b437483107",
   "metadata": {},
   "outputs": [],
   "source": [
    "%%time\n",
    "unmasker.save_to_cache()"
   ]
  },
  {
   "cell_type": "code",
   "execution_count": null,
   "id": "f61737e0-1a07-4c88-9ecf-70109078a50a",
   "metadata": {},
   "outputs": [],
   "source": [
    "querier.print_result()"
   ]
  },
  {
   "cell_type": "code",
   "execution_count": null,
   "id": "1532a481-f1ea-421a-b843-dd3c137622b2",
   "metadata": {},
   "outputs": [],
   "source": [
    "querier.print_for_latex()"
   ]
  },
  {
   "cell_type": "code",
   "execution_count": null,
   "id": "4a8ff2c8-99b1-47f9-955f-887b0708bd81",
   "metadata": {},
   "outputs": [],
   "source": [
    "TOP_K = 10"
   ]
  },
  {
   "cell_type": "code",
   "execution_count": null,
   "id": "82d61768-0707-4bfd-9309-e0cc37168a5f",
   "metadata": {},
   "outputs": [],
   "source": [
    "unmasker = PipelineCacheWrapper('fill-mask', model='bert-base-cased', top_k=TOP_K)"
   ]
  },
  {
   "cell_type": "code",
   "execution_count": null,
   "id": "7b9602ba-fc3c-4778-8a5e-9044d4eb4457",
   "metadata": {},
   "outputs": [],
   "source": [
    "querier.reset()\n",
    "querier.set_top_k(TOP_K)\n",
    "querier.set_model(unmasker)\n"
   ]
  },
  {
   "cell_type": "code",
   "execution_count": null,
   "id": "a5a762de-3700-4f1e-a1b2-e80f7eb7c510",
   "metadata": {},
   "outputs": [],
   "source": [
    "querier.query(TREx.data)"
   ]
  },
  {
   "cell_type": "code",
   "execution_count": null,
   "id": "e9ce9a4b-737b-4ee1-9620-7cce8ac453fd",
   "metadata": {},
   "outputs": [],
   "source": [
    "%%time\n",
    "unmasker.save_to_cache()"
   ]
  },
  {
   "cell_type": "code",
   "execution_count": null,
   "id": "593dafa5-2f74-4c3b-956b-f7a08c3b559a",
   "metadata": {},
   "outputs": [],
   "source": [
    "querier.print_result()"
   ]
  },
  {
   "cell_type": "code",
   "execution_count": null,
   "id": "aeab7452-8a4a-495b-ab94-04bd0c053763",
   "metadata": {},
   "outputs": [],
   "source": [
    "querier.print_for_latex()"
   ]
  },
  {
   "cell_type": "code",
   "execution_count": null,
   "id": "9a8824cd-af0b-4a3b-bed7-7a678cacfc18",
   "metadata": {},
   "outputs": [],
   "source": [
    "TOP_K = 100"
   ]
  },
  {
   "cell_type": "code",
   "execution_count": null,
   "id": "485962c7-6b17-4fc0-b694-3c3122f5645d",
   "metadata": {},
   "outputs": [],
   "source": [
    "unmasker = PipelineCacheWrapper('fill-mask', model='bert-base-cased', top_k=TOP_K)"
   ]
  },
  {
   "cell_type": "code",
   "execution_count": null,
   "id": "af4d6045-f572-43c4-8e28-747996627412",
   "metadata": {},
   "outputs": [],
   "source": [
    "querier.reset()\n",
    "querier.set_top_k(TOP_K)\n",
    "querier.set_model(unmasker)\n"
   ]
  },
  {
   "cell_type": "code",
   "execution_count": null,
   "id": "2a2a11b2-3d0b-4adb-9e7c-cc34b1c0bd9d",
   "metadata": {},
   "outputs": [],
   "source": [
    "querier.query(TREx.data)"
   ]
  },
  {
   "cell_type": "code",
   "execution_count": null,
   "id": "0ef8a1ff-67d3-4afa-8ca9-3aabd92cebae",
   "metadata": {},
   "outputs": [],
   "source": [
    "%%time\n",
    "unmasker.save_to_cache()"
   ]
  },
  {
   "cell_type": "code",
   "execution_count": null,
   "id": "3a0cd75a-f194-4082-840f-9d23536e914d",
   "metadata": {},
   "outputs": [],
   "source": [
    "querier.print_result()"
   ]
  },
  {
   "cell_type": "code",
   "execution_count": null,
   "id": "332fd77e-4cd6-493e-957d-62170b0a1faf",
   "metadata": {},
   "outputs": [],
   "source": [
    "querier.print_for_latex()"
   ]
  }
 ],
 "metadata": {
  "kernelspec": {
   "display_name": "Python 3 (ipykernel)",
   "language": "python",
   "name": "python3"
  },
  "language_info": {
   "codemirror_mode": {
    "name": "ipython",
    "version": 3
   },
   "file_extension": ".py",
   "mimetype": "text/x-python",
   "name": "python",
   "nbconvert_exporter": "python",
   "pygments_lexer": "ipython3",
   "version": "3.8.9"
  }
 },
 "nbformat": 4,
 "nbformat_minor": 5
}
