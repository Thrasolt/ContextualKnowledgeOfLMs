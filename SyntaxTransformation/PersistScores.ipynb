{
 "cells": [
  {
   "cell_type": "code",
   "execution_count": 1,
   "id": "23a0caa5-768b-48f5-bd0f-235c3e12b701",
   "metadata": {},
   "outputs": [],
   "source": [
    "from transformers import logging\n",
    "from transformers import BertModel, BertTokenizer\n",
    "from transformers import pipeline\n",
    "import torch\n",
    "import torch.nn as nn\n",
    "from torch.nn.functional import normalize, log_softmax"
   ]
  },
  {
   "cell_type": "code",
   "execution_count": 2,
   "id": "75241d3a-61e8-4f35-b3b7-8a5dd0dadb65",
   "metadata": {},
   "outputs": [],
   "source": [
    "from TRExData.LamaTRExData import LamaTRExData\n",
    "from ResultData.ScorePersistor import ScorePersistor\n",
    "from relation_templates.templates import get_templates, get_relation_meta, relations, relation_names, get_relations_with_last_digit\n",
    "from ModelHelpers.fill_mask_helpers import get_probability_from_pipeline_for_token\n",
    "from tqdm import tqdm"
   ]
  },
  {
   "cell_type": "code",
   "execution_count": 3,
   "id": "be087098-0bcc-40f6-8d93-ea7de128e5a5",
   "metadata": {},
   "outputs": [],
   "source": [
    "logging.set_verbosity_error()"
   ]
  },
  {
   "cell_type": "code",
   "execution_count": 4,
   "id": "f72848f5-e838-4ea3-9018-9af6cdaad93c",
   "metadata": {},
   "outputs": [],
   "source": [
    "SIMPLE = 'simple'\n",
    "COMPOUND = 'compound'\n",
    "COMPLEX = 'complex'\n",
    "COMCOM = \"compound-complex\"\n",
    "\n",
    "KEYS = [SIMPLE, COMPOUND, COMPLEX, COMCOM]"
   ]
  },
  {
   "cell_type": "code",
   "execution_count": 5,
   "id": "b9f31c2d-fef5-4e07-94cb-6a2d7f7f1ce6",
   "metadata": {},
   "outputs": [],
   "source": [
    "#model='bert-base-uncased'\n",
    "model='bert-large-cased'\n",
    "#model='bert-base-multilingual-cased'\n",
    "#model='bert-base-multilingual-uncased'\n",
    "VOCABULARY_SIZE = 28996\n",
    "MASK = \"[MASK]\""
   ]
  },
  {
   "cell_type": "code",
   "execution_count": 6,
   "id": "3f87d1fb-a94e-44af-8c28-25c90753fa2f",
   "metadata": {},
   "outputs": [
    {
     "data": {
      "text/plain": [
       "3"
      ]
     },
     "execution_count": 6,
     "metadata": {},
     "output_type": "execute_result"
    }
   ],
   "source": [
    "relations = get_relations_with_last_digit(9)[2:]\n",
    "len(relations)"
   ]
  },
  {
   "cell_type": "code",
   "execution_count": 7,
   "id": "390da65a-543e-4703-a4dd-b6c3c1d9b2be",
   "metadata": {},
   "outputs": [],
   "source": [
    "unmasker = pipeline('fill-mask', model=\"bert-base-cased\", top_k=VOCABULARY_SIZE)"
   ]
  },
  {
   "cell_type": "code",
   "execution_count": 8,
   "id": "c0b7efaf-9113-4ef2-b351-8facc6bc9933",
   "metadata": {},
   "outputs": [],
   "source": [
    "TREx = LamaTRExData(relations = relations)\n",
    "TREx.load()"
   ]
  },
  {
   "cell_type": "code",
   "execution_count": 9,
   "id": "75e6e30f-a2fd-4cf6-b7a9-aec625ad5f74",
   "metadata": {},
   "outputs": [],
   "source": [
    "persister = ScorePersistor(model=model)"
   ]
  },
  {
   "cell_type": "code",
   "execution_count": 10,
   "id": "cc24dd86-85a8-4bfa-9417-d326e10da456",
   "metadata": {},
   "outputs": [],
   "source": [
    "@torch.no_grad()\n",
    "def metric(sentence: str, token: str):\n",
    "    prob = get_probability_from_pipeline_for_token(unmasker(sentence), token)\n",
    "    return prob"
   ]
  },
  {
   "cell_type": "code",
   "execution_count": 11,
   "id": "6e4fd20a-b510-4a20-a1d3-ced8ce7240df",
   "metadata": {
    "scrolled": true,
    "tags": []
   },
   "outputs": [
    {
     "name": "stderr",
     "output_type": "stream",
     "text": [
      "100%|█████████████████████████████████████████████████████████████████████████████████████████████████████████████████████████████████████████████████████████████████████████| 964/964 [47:12<00:00,  2.94s/it]\n",
      "100%|█████████████████████████████████████████████████████████████████████████████████████████████████████████████████████████████████████████████████████████████████████████| 944/944 [45:55<00:00,  2.92s/it]\n",
      "100%|█████████████████████████████████████████████████████████████████████████████████████████████████████████████████████████████████████████████████████████████████████████| 892/892 [43:09<00:00,  2.90s/it]\n"
     ]
    }
   ],
   "source": [
    "for relation in relations:\n",
    "    for sub, obj in tqdm(TREx.data[relation]):\n",
    "        sentences = get_templates(relation, sub, MASK)\n",
    "        for key in KEYS:\n",
    "            score = metric(sentences[key], obj)\n",
    "            try:\n",
    "                persister.persist_score_row(key, relation, sub, obj , score)\n",
    "            except Exception as e: \n",
    "                print(e)\n",
    "                print(relation, sub, obj)        "
   ]
  },
  {
   "cell_type": "code",
   "execution_count": 12,
   "id": "bae6092b-8b45-468b-b111-e362e53abeaf",
   "metadata": {},
   "outputs": [],
   "source": [
    "persister.close()"
   ]
  },
  {
   "cell_type": "code",
   "execution_count": null,
   "id": "34b36e95-a752-42eb-9c97-8b02d12ea7de",
   "metadata": {},
   "outputs": [],
   "source": []
  }
 ],
 "metadata": {
  "kernelspec": {
   "display_name": "Python 3 (ipykernel)",
   "language": "python",
   "name": "python3"
  },
  "language_info": {
   "codemirror_mode": {
    "name": "ipython",
    "version": 3
   },
   "file_extension": ".py",
   "mimetype": "text/x-python",
   "name": "python",
   "nbconvert_exporter": "python",
   "pygments_lexer": "ipython3",
   "version": "3.8.9"
  }
 },
 "nbformat": 4,
 "nbformat_minor": 5
}
