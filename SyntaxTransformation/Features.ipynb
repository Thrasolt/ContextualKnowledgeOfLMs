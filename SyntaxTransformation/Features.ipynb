{
 "cells": [
  {
   "cell_type": "code",
   "execution_count": 1,
   "id": "d7cf1c2d-638f-4a07-b912-eed83749aea9",
   "metadata": {},
   "outputs": [],
   "source": [
    "import torch\n",
    "import torch.optim as optim\n",
    "import torch.nn as nn\n",
    "import torch.nn.functional as F\n",
    "from torch import linalg as LA\n",
    "from torch.utils.data import DataLoader\n",
    "from transformers import logging\n",
    "from transformers import pipeline\n",
    "from tqdm import tqdm"
   ]
  },
  {
   "cell_type": "code",
   "execution_count": 2,
   "id": "9fc3f010-b3e9-41f6-b371-30caa2cbac14",
   "metadata": {},
   "outputs": [],
   "source": [
    "from transformers import BertTokenizer, BertModel\n",
    "from transformers import AutoTokenizer, AutoModel"
   ]
  },
  {
   "cell_type": "code",
   "execution_count": 3,
   "id": "98d6dc64-f929-499e-8c5c-32bb69e10854",
   "metadata": {},
   "outputs": [],
   "source": [
    "from relation_templates.templates import relations, nominalized_relations, get_templates, get_relation_meta, relations, relation_names, get_relation_cardinality, get_relations_with_last_digit"
   ]
  },
  {
   "cell_type": "code",
   "execution_count": 4,
   "id": "673ecf5b-8b03-4901-b2f4-731b35e63ba1",
   "metadata": {},
   "outputs": [],
   "source": [
    "from TRExData.LamaTRExData import LamaTRExData\n",
    "from TRExData.AbstractTRExData import AbstractTRExData\n",
    "from TRExData.HardTRExData import HardKnownTRExData"
   ]
  },
  {
   "cell_type": "code",
   "execution_count": 5,
   "id": "3b467967-b685-47cb-a4ac-ad31dad9d025",
   "metadata": {},
   "outputs": [],
   "source": [
    "from FeatureExtractor.FeatureComparison import FeatureComparison\n",
    "from ResultData.ComparisonPersistor import ComparisonPersistor"
   ]
  },
  {
   "cell_type": "code",
   "execution_count": 6,
   "id": "a95dc0cd-837a-4476-ae5c-8766f35ee268",
   "metadata": {},
   "outputs": [],
   "source": [
    "MASK = \"[MASK]\"\n",
    "#MASK = \"<mask>\""
   ]
  },
  {
   "cell_type": "code",
   "execution_count": 21,
   "id": "a70401b0-fe17-4eed-8210-9d1d23118317",
   "metadata": {},
   "outputs": [],
   "source": [
    "#keys = [\"simple\",\"compound\",\"complex\",\"compound-complex\", \"active\", \"passive\", \"nominalized\"]\n",
    "keys = [\"simple\",\"compound\",\"complex\",\"compound-complex\"]"
   ]
  },
  {
   "cell_type": "code",
   "execution_count": 9,
   "id": "c1f7e3c0-1682-4c8f-8b1c-8f1faae741b0",
   "metadata": {},
   "outputs": [],
   "source": [
    "logging.set_verbosity_error()"
   ]
  },
  {
   "cell_type": "code",
   "execution_count": 8,
   "id": "0d9fb1df-3048-46b9-8b2e-60e3e7528a50",
   "metadata": {},
   "outputs": [],
   "source": [
    "model='bert-base-cased'\n",
    "#model='bert-large-cased'\n",
    "#model='bert-base-uncased'\n",
    "#model='bert-large-uncased'\n",
    "#model='bert-base-multilingual-cased'\n",
    "#model='bert-base-multilingual-uncased'\n",
    "#model='roberta-base'\n",
    "#model='roberta-large'"
   ]
  },
  {
   "cell_type": "code",
   "execution_count": 10,
   "id": "f98e5b14-0c32-41ba-b2a0-ac35f7f66673",
   "metadata": {},
   "outputs": [],
   "source": [
    "metric_name = \"cosine similarity\""
   ]
  },
  {
   "cell_type": "code",
   "execution_count": 11,
   "id": "b324d92a-9d14-411c-b255-1a4d93efc4eb",
   "metadata": {},
   "outputs": [],
   "source": [
    "tokenizer = AutoTokenizer.from_pretrained(model)"
   ]
  },
  {
   "cell_type": "code",
   "execution_count": 12,
   "id": "45d1e096-5c75-4ccc-9a4d-4249b26cafaa",
   "metadata": {},
   "outputs": [],
   "source": [
    "feature_extractor = pipeline(\"feature-extraction\", model=model)"
   ]
  },
  {
   "cell_type": "code",
   "execution_count": null,
   "id": "43bd24ea-839b-43f6-b09c-e5da0b1fc978",
   "metadata": {},
   "outputs": [],
   "source": [
    "#relations = get_relations_with_last_digit(3)[2:]+get_relations_with_last_digit(4)+get_relations_with_last_digit(5)+get_relations_with_last_digit(6)+get_relations_with_last_digit(7)+get_relations_with_last_digit(8)+get_relations_with_last_digit(9)\n",
    "#relations = nominalized_relations"
   ]
  },
  {
   "cell_type": "code",
   "execution_count": null,
   "id": "e73077e2-843e-416c-809d-37b4af1f019c",
   "metadata": {},
   "outputs": [],
   "source": [
    "list(enumerate(relations)), len(relations)"
   ]
  },
  {
   "cell_type": "code",
   "execution_count": 14,
   "id": "950c03c9-7dd3-401d-b475-55dad91908dd",
   "metadata": {},
   "outputs": [],
   "source": [
    "TREx = LamaTRExData(relations = relations)\n",
    "#TREx = AbstractTRExData(relations=relations)\n",
    "#TREx = HardKnownTRExData(get_hard_filter, get_known_filter, relations = relations"
   ]
  },
  {
   "cell_type": "code",
   "execution_count": 15,
   "id": "55489328-b0ab-4439-b2ae-e6cd0344cd00",
   "metadata": {},
   "outputs": [],
   "source": [
    "TREx.load()"
   ]
  },
  {
   "cell_type": "code",
   "execution_count": 19,
   "id": "7eb0cf36-d999-4c19-8c41-46e01650eae8",
   "metadata": {},
   "outputs": [],
   "source": [
    "persistor = ComparisonPersistor(model, metric_name)"
   ]
  },
  {
   "cell_type": "code",
   "execution_count": 17,
   "id": "3bf902eb-69e5-4362-bb0d-6e8f18b521cc",
   "metadata": {},
   "outputs": [],
   "source": [
    "def metric(left, right):\n",
    "    result = torch.dot(left, right)/(LA.norm(left)*LA.norm(right))\n",
    "    return result.item()"
   ]
  },
  {
   "cell_type": "code",
   "execution_count": 22,
   "id": "480f631b-56ac-42f2-9d3a-9f4a3948dd7f",
   "metadata": {},
   "outputs": [],
   "source": [
    "comparer = FeatureComparison(feature_extractor, tokenizer, metric, relations, get_templates, get_relation_meta, persistor.persist_row_fast, keys=keys, mask=MASK)"
   ]
  },
  {
   "cell_type": "code",
   "execution_count": null,
   "id": "cb62c09b-0c0b-4eb4-99a6-217cbf85373e",
   "metadata": {},
   "outputs": [],
   "source": [
    "comparer.get_key_pairs()"
   ]
  },
  {
   "cell_type": "code",
   "execution_count": null,
   "id": "eda90111-dac1-4881-84e4-51d585aa8cb4",
   "metadata": {},
   "outputs": [],
   "source": [
    "comparer.compare(TREx.data)"
   ]
  },
  {
   "cell_type": "code",
   "execution_count": null,
   "id": "91d2f30e-1d36-45e2-89ea-dbc99ddcff12",
   "metadata": {},
   "outputs": [],
   "source": [
    "persistor.close()"
   ]
  },
  {
   "cell_type": "code",
   "execution_count": null,
   "id": "91fc1b07-fb71-40a7-97ad-8296f74b24d1",
   "metadata": {},
   "outputs": [],
   "source": [
    "#persistor.connection.close()"
   ]
  },
  {
   "cell_type": "code",
   "execution_count": 24,
   "id": "02b0bb17-fd50-4f9c-ad8c-98112d8c4728",
   "metadata": {},
   "outputs": [
    {
     "data": {
      "text/plain": [
       "torch.Size([768])"
      ]
     },
     "execution_count": 24,
     "metadata": {},
     "output_type": "execute_result"
    }
   ],
   "source": [
    "comparer.extract_mask_features(f\"Obama was born in {MASK}\").shape"
   ]
  },
  {
   "cell_type": "code",
   "execution_count": null,
   "id": "87070977-42f9-4f69-b646-8c2bd7a2f105",
   "metadata": {},
   "outputs": [],
   "source": []
  }
 ],
 "metadata": {
  "kernelspec": {
   "display_name": "Python 3 (ipykernel)",
   "language": "python",
   "name": "python3"
  },
  "language_info": {
   "codemirror_mode": {
    "name": "ipython",
    "version": 3
   },
   "file_extension": ".py",
   "mimetype": "text/x-python",
   "name": "python",
   "nbconvert_exporter": "python",
   "pygments_lexer": "ipython3",
   "version": "3.9.6"
  }
 },
 "nbformat": 4,
 "nbformat_minor": 5
}
