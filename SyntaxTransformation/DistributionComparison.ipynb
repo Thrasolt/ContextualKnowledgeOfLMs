{
 "cells": [
  {
   "cell_type": "code",
   "execution_count": 1,
   "id": "544f83fd-cb39-4307-b7cc-d89920b4bbef",
   "metadata": {},
   "outputs": [],
   "source": [
    "from transformers import logging\n",
    "from transformers import BertModel, BertTokenizer\n",
    "from transformers import pipeline\n",
    "import torch\n",
    "import torch.nn as nn\n",
    "from torch.nn.functional import normalize, log_softmax"
   ]
  },
  {
   "cell_type": "code",
   "execution_count": 2,
   "id": "b77df498-11e6-47b7-879d-f1ab56173426",
   "metadata": {},
   "outputs": [],
   "source": [
    "logging.set_verbosity_error()\n",
    "import os\n",
    "os.environ[\"TOKENIZERS_PARALLELISM\"] = \"false\""
   ]
  },
  {
   "cell_type": "code",
   "execution_count": 3,
   "id": "f6196cd3-ba44-4c5f-b9a3-bea42e2c5206",
   "metadata": {},
   "outputs": [],
   "source": [
    "from LamaTRExData import LamaTRExData\n",
    "from DistributionComparison.DistributionComparisonResult import DistributionComparisonResult \n",
    "from DistributionComparison.SentenceTypologyEmbeddingDistributionComparison import SentenceTypologyEmbeddingDistributionComparison \n",
    "from ModelHelpers.fill_mask_helpers import get_distribution_from_pipeline\n",
    "from relation_templates.templater import dict_templater"
   ]
  },
  {
   "cell_type": "code",
   "execution_count": 4,
   "id": "2ce2afb6-7651-4c85-840b-f78fb9237ba9",
   "metadata": {},
   "outputs": [],
   "source": [
    "USELESS_WORD = \"Erftwerk\"\n",
    "UNKNOWN_TOKEN = \"[UNK]\"\n",
    "MASK = \"[MASK]\"\n",
    "OBJ_LABEL = \"obj-label\"\n",
    "SUBJ_LABEL = \"sub-label\"\n",
    "VOCABULARY_SIZE = 28996\n",
    "words = [ USELESS_WORD, UNKNOWN_TOKEN] "
   ]
  },
  {
   "cell_type": "code",
   "execution_count": 5,
   "id": "de7bce30-fcb2-4735-8bd0-b40d0f545fd0",
   "metadata": {},
   "outputs": [],
   "source": [
    "relations = [\"P19\", \"P36\", \"P101\", \"P178\"]\n",
    "#relations = [\"P19\"]"
   ]
  },
  {
   "cell_type": "code",
   "execution_count": 6,
   "id": "29f98d0f-aa14-4d97-aa79-865df1d46f2c",
   "metadata": {},
   "outputs": [],
   "source": [
    "model = pipeline('fill-mask', model=\"bert-base-cased\", top_k=VOCABULARY_SIZE)"
   ]
  },
  {
   "cell_type": "code",
   "execution_count": 7,
   "id": "804a42d8-e31d-4219-9e1c-66ac18431038",
   "metadata": {},
   "outputs": [],
   "source": [
    "TREx = LamaTRExData(relations = relations)\n",
    "TREx.load()"
   ]
  },
  {
   "cell_type": "code",
   "execution_count": 8,
   "id": "106262fb-058c-465a-8c33-0e702dd8daaa",
   "metadata": {},
   "outputs": [],
   "source": [
    "def kl_divergence(P,Q):\n",
    "    return (torch.log(P/Q)*P).sum().item()"
   ]
  },
  {
   "cell_type": "code",
   "execution_count": 9,
   "id": "3ffd361a-c092-400b-a394-5a3b55f5e5ab",
   "metadata": {},
   "outputs": [],
   "source": [
    "@torch.no_grad()\n",
    "def metric(left_sentence: str, right_sentence: str):\n",
    "    Q_dist = get_distribution_from_pipeline(model(left_sentence))\n",
    "    P_dist = get_distribution_from_pipeline(model(right_sentence))\n",
    "    return kl_divergence(Q_dist,P_dist)"
   ]
  },
  {
   "cell_type": "code",
   "execution_count": 10,
   "id": "28b7a64a-51e5-460c-8978-461ce1ba3c9e",
   "metadata": {},
   "outputs": [],
   "source": [
    "Comparer = SentenceTypologyEmbeddingDistributionComparison(relations, dict_templater, words, metric, MASK)"
   ]
  },
  {
   "cell_type": "code",
   "execution_count": 11,
   "id": "87c14b5d-1fd2-4619-b23a-0da5c8c2b654",
   "metadata": {},
   "outputs": [],
   "source": [
    "nr_of_compared_triplets = 20"
   ]
  },
  {
   "cell_type": "code",
   "execution_count": null,
   "id": "3f684127-4e6f-4868-b967-ba395d6f63b7",
   "metadata": {},
   "outputs": [
    {
     "name": "stderr",
     "output_type": "stream",
     "text": [
      "100%|██████████████████████████████████████████████████████████████████████████████████████████████████████████████████████████████████████████████████████████████████████████████████████████████████████████████████████████████████████████████████████████████████████████████| 20/20 [18:07<00:00, 54.39s/it]\n",
      "100%|██████████████████████████████████████████████████████████████████████████████████████████████████████████████████████████████████████████████████████████████████████████████████████████████████████████████████████████████████████████████████████████████████████████████| 20/20 [13:49<00:00, 41.46s/it]\n",
      " 50%|███████████████████████████████████████████████████████████████████████████████████████████████████████████████████████████████████████                                                                                                                                       | 10/20 [07:49<07:54, 47.47s/it]"
     ]
    }
   ],
   "source": [
    "Comparer.compare(TREx.data, nr_of_compared_triplets)"
   ]
  },
  {
   "cell_type": "code",
   "execution_count": null,
   "id": "6e598b5b-ac51-425e-ad97-934cc28465ad",
   "metadata": {},
   "outputs": [],
   "source": [
    "Comparer.print_comparison(\"simple\", \"simple\", UNKNOWN_TOKEN)"
   ]
  },
  {
   "cell_type": "code",
   "execution_count": null,
   "id": "b583634e-1d64-49dc-895f-97cfcb790623",
   "metadata": {},
   "outputs": [],
   "source": [
    "Comparer.print_comparison(\"simple\", \"complex\", USELESS_WORD)"
   ]
  },
  {
   "cell_type": "code",
   "execution_count": null,
   "id": "530cc53e-541c-45d1-8ce4-96c0e9aac202",
   "metadata": {},
   "outputs": [],
   "source": [
    "Comparer.print_comparison(\"simple\", \"compound\", USELESS_WORD)"
   ]
  },
  {
   "cell_type": "code",
   "execution_count": null,
   "id": "77ebb5d3-a9c6-41f0-af25-5ed3f76470d2",
   "metadata": {},
   "outputs": [],
   "source": [
    "Comparer.print_comparison(\"simple\", \"compound-complex\", SUBJ_LABEL)"
   ]
  },
  {
   "cell_type": "code",
   "execution_count": null,
   "id": "f7c46442-e9f9-4b19-8b5a-aa57133c5a4f",
   "metadata": {},
   "outputs": [],
   "source": []
  }
 ],
 "metadata": {
  "kernelspec": {
   "display_name": "Python 3 (ipykernel)",
   "language": "python",
   "name": "python3"
  },
  "language_info": {
   "codemirror_mode": {
    "name": "ipython",
    "version": 3
   },
   "file_extension": ".py",
   "mimetype": "text/x-python",
   "name": "python",
   "nbconvert_exporter": "python",
   "pygments_lexer": "ipython3",
   "version": "3.8.9"
  }
 },
 "nbformat": 4,
 "nbformat_minor": 5
}
