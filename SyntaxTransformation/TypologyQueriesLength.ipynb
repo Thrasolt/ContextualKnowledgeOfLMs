{
 "cells": [
  {
   "cell_type": "code",
   "execution_count": 1,
   "id": "bc21928c-3afd-40d1-acc8-5455f88b2265",
   "metadata": {
    "pycharm": {
     "name": "#%%\n"
    }
   },
   "outputs": [],
   "source": [
    "import torch\n",
    "import torch.optim as optim\n",
    "import torch.nn as nn\n",
    "from torch.utils.data import DataLoader\n",
    "from transformers import logging\n",
    "from transformers import pipeline\n",
    "from transformers import BertTokenizer, BertModel\n",
    "from tqdm import tqdm\n",
    "from PipelineCacheWrapper.PipelineCacheWrapper import PipelineCacheWrapper"
   ]
  },
  {
   "cell_type": "code",
   "execution_count": 2,
   "id": "ce7545e0-34c6-4c1e-a205-f1eaf2804464",
   "metadata": {},
   "outputs": [],
   "source": [
    "tokenizer = BertTokenizer.from_pretrained('bert-base-cased')"
   ]
  },
  {
   "cell_type": "code",
   "execution_count": 3,
   "id": "9427a17b-9faa-4675-90d0-5156073ec3b3",
   "metadata": {},
   "outputs": [
    {
     "data": {
      "text/plain": [
       "8"
      ]
     },
     "execution_count": 3,
     "metadata": {},
     "output_type": "execute_result"
    }
   ],
   "source": [
    "len(tokenizer(\"Hallo DU Sau\")[\"input_ids\"])"
   ]
  },
  {
   "cell_type": "code",
   "execution_count": 4,
   "id": "8309934f-daf6-4544-a54c-158d73f7bcc5",
   "metadata": {
    "pycharm": {
     "name": "#%%\n"
    }
   },
   "outputs": [],
   "source": [
    "from relation_templates.templates import relations, nominalized_relations, get_templates"
   ]
  },
  {
   "cell_type": "code",
   "execution_count": 9,
   "id": "bb890cf4-d0fc-47f3-941f-0132d6906827",
   "metadata": {},
   "outputs": [
    {
     "name": "stdout",
     "output_type": "stream",
     "text": [
      "P159,12,15,14,19\n",
      "P37,10,15,14,19\n",
      "P1412,9,14,14,20\n",
      "P138,8,16,15,21\n",
      "P495,8,13,12,17\n",
      "P17,8,12,13,18\n",
      "P178,8,16,10,21\n",
      "P103,10,13,12,17\n",
      "P20,7,14,14,19\n",
      "P36,9,14,14,18\n",
      "P407,8,14,14,21\n",
      "P190,9,15,18,22\n",
      "P276,8,13,12,17\n",
      "P108,7,13,11,17\n",
      "P31,7,15,13,18\n",
      "P364,10,15,14,21\n",
      "P27,7,14,13,19\n",
      "P30,8,12,12,17\n",
      "P47,8,14,15,15\n",
      "P1376,9,15,13,18\n",
      "P106,9,17,11,26\n",
      "P413,8,12,11,19\n",
      "P937,9,13,13,18\n",
      "P449,9,12,12,20\n",
      "P131,8,13,12,17\n",
      "P1303,6,14,16,20\n",
      "P127,8,12,10,18\n",
      "P279,11,16,15,17\n",
      "P740,8,12,10,16\n",
      "P19,8,15,15,22\n",
      "P527,7,12,12,17\n",
      "P136,7,12,14,22\n",
      "P264,10,12,12,20\n",
      "P1001,10,12,14,19\n",
      "P39,9,13,12,17\n",
      "P101,10,17,18,22\n",
      "P140,11,17,16,27\n",
      "P361,8,14,12,17\n",
      "P530,9,16,13,20\n",
      "P463,9,14,13,16\n",
      "P176,8,14,11,18\n"
     ]
    }
   ],
   "source": [
    "for relation in relations:\n",
    "    templates = get_templates(relation,\"word\", \"word\")\n",
    "    print(\",\".join([relation]+[str(len(tokenizer(sentence)[\"input_ids\"])) for sentence in templates.values()]))"
   ]
  },
  {
   "cell_type": "code",
   "execution_count": null,
   "id": "4400550c-abec-4e74-a1dc-9ef511335b8e",
   "metadata": {},
   "outputs": [],
   "source": []
  }
 ],
 "metadata": {
  "kernelspec": {
   "display_name": "Python 3 (ipykernel)",
   "language": "python",
   "name": "python3"
  },
  "language_info": {
   "codemirror_mode": {
    "name": "ipython",
    "version": 3
   },
   "file_extension": ".py",
   "mimetype": "text/x-python",
   "name": "python",
   "nbconvert_exporter": "python",
   "pygments_lexer": "ipython3",
   "version": "3.8.9"
  }
 },
 "nbformat": 4,
 "nbformat_minor": 5
}
