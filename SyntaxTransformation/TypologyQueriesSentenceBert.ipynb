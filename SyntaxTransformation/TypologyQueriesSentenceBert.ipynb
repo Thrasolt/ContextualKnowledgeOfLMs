{
 "cells": [
  {
   "cell_type": "code",
   "execution_count": 1,
   "id": "3e9d110c",
   "metadata": {
    "pycharm": {
     "name": "#%%\n"
    }
   },
   "outputs": [],
   "source": [
    "from tqdm import tqdm\n"
   ]
  },
  {
   "cell_type": "code",
   "execution_count": 2,
   "id": "f199a1cd",
   "metadata": {},
   "outputs": [],
   "source": [
    "#import tensorflow as tf\n",
    "import tensorflow.compat.v1 as tf\n",
    "from sensebert.sensebert import SenseBert"
   ]
  },
  {
   "cell_type": "code",
   "execution_count": 3,
   "id": "02da01ec",
   "metadata": {
    "pycharm": {
     "name": "#%%\n"
    }
   },
   "outputs": [],
   "source": [
    "from LamaTRExData import LamaTRExData\n",
    "from SentenceTypologyQueryResults import SentenceTypologyQueryResults\n",
    "from relation_templates.templates import relations, nominalized_relations"
   ]
  },
  {
   "cell_type": "code",
   "execution_count": 4,
   "id": "08066afd",
   "metadata": {
    "collapsed": false,
    "jupyter": {
     "outputs_hidden": false
    },
    "pycharm": {
     "name": "#%%\n"
    }
   },
   "outputs": [],
   "source": [
    "from TypologyQuerier import TypologyQuerier "
   ]
  },
  {
   "cell_type": "code",
   "execution_count": 5,
   "id": "39bc7bc5",
   "metadata": {},
   "outputs": [
    {
     "name": "stdout",
     "output_type": "stream",
     "text": [
      "WARNING:tensorflow:From /Users/tim/Downloads/tensorflow-test/env/lib/python3.8/site-packages/tensorflow/python/compat/v2_compat.py:107: disable_resource_variables (from tensorflow.python.ops.variable_scope) is deprecated and will be removed in a future version.\n",
      "Instructions for updating:\n",
      "non-resource variables are not supported in the long term\n"
     ]
    }
   ],
   "source": [
    "tf.disable_v2_behavior()"
   ]
  },
  {
   "cell_type": "code",
   "execution_count": 6,
   "id": "e30fa01f",
   "metadata": {
    "scrolled": true
   },
   "outputs": [
    {
     "name": "stdout",
     "output_type": "stream",
     "text": [
      "Metal device set to: Apple M1 Max\n",
      "Loading the known model 'sensebert-base-uncased'\n"
     ]
    },
    {
     "name": "stderr",
     "output_type": "stream",
     "text": [
      "2022-07-10 18:03:05.185212: I tensorflow/core/common_runtime/pluggable_device/pluggable_device_factory.cc:305] Could not identify NUMA node of platform GPU ID 0, defaulting to 0. Your kernel may not have been built with NUMA support.\n",
      "2022-07-10 18:03:05.185392: I tensorflow/core/common_runtime/pluggable_device/pluggable_device_factory.cc:271] Created TensorFlow device (/job:localhost/replica:0/task:0/device:GPU:0 with 0 MB memory) -> physical PluggableDevice (device: 0, name: METAL, pci bus id: <undefined>)\n",
      "2022-07-10 18:03:05.219721: W tensorflow/core/platform/cloud/google_auth_provider.cc:184] All attempts to get a Google authentication bearer token failed, returning an empty token. Retrieving token from files failed with \"NOT_FOUND: Could not locate the credentials file.\". Retrieving token from GCE failed with \"FAILED_PRECONDITION: Error executing an HTTP request: libcurl code 6 meaning 'Couldn't resolve host name', error details: Could not resolve host: metadata\".\n"
     ]
    },
    {
     "name": "stdout",
     "output_type": "stream",
     "text": [
      "WARNING:tensorflow:Unable to create a python object for variable <tf.Variable 'bert/embeddings/word_embeddings:0' shape=(56141, 768) dtype=float32_ref> because it is a reference variable. It may not be visible to training APIs. If this is a problem, consider rebuilding the SavedModel after running tf.compat.v1.enable_resource_variables().\n",
      "WARNING:tensorflow:Unable to create a python object for variable <tf.Variable 'bert/embeddings/ss_embeddings:0' shape=(45, 768) dtype=float32_ref> because it is a reference variable. It may not be visible to training APIs. If this is a problem, consider rebuilding the SavedModel after running tf.compat.v1.enable_resource_variables().\n",
      "WARNING:tensorflow:Unable to create a python object for variable <tf.Variable 'bert/embeddings/position_embeddings:0' shape=(512, 768) dtype=float32_ref> because it is a reference variable. It may not be visible to training APIs. If this is a problem, consider rebuilding the SavedModel after running tf.compat.v1.enable_resource_variables().\n",
      "WARNING:tensorflow:Unable to create a python object for variable <tf.Variable 'bert/encoder/layer_0/attention/self/query/kernel:0' shape=(768, 768) dtype=float32_ref> because it is a reference variable. It may not be visible to training APIs. If this is a problem, consider rebuilding the SavedModel after running tf.compat.v1.enable_resource_variables().\n",
      "WARNING:tensorflow:Unable to create a python object for variable <tf.Variable 'bert/encoder/layer_0/attention/self/query/bias:0' shape=(768,) dtype=float32_ref> because it is a reference variable. It may not be visible to training APIs. If this is a problem, consider rebuilding the SavedModel after running tf.compat.v1.enable_resource_variables().\n",
      "WARNING:tensorflow:Unable to create a python object for variable <tf.Variable 'bert/embeddings/word_embeddings:0' shape=(56141, 768) dtype=float32_ref> because it is a reference variable. It may not be visible to training APIs. If this is a problem, consider rebuilding the SavedModel after running tf.compat.v1.enable_resource_variables().\n",
      "WARNING:tensorflow:Unable to create a python object for variable <tf.Variable 'bert/embeddings/ss_embeddings:0' shape=(45, 768) dtype=float32_ref> because it is a reference variable. It may not be visible to training APIs. If this is a problem, consider rebuilding the SavedModel after running tf.compat.v1.enable_resource_variables().\n",
      "WARNING:tensorflow:Unable to create a python object for variable <tf.Variable 'bert/embeddings/position_embeddings:0' shape=(512, 768) dtype=float32_ref> because it is a reference variable. It may not be visible to training APIs. If this is a problem, consider rebuilding the SavedModel after running tf.compat.v1.enable_resource_variables().\n",
      "WARNING:tensorflow:Unable to create a python object for variable <tf.Variable 'bert/encoder/layer_0/attention/self/query/kernel:0' shape=(768, 768) dtype=float32_ref> because it is a reference variable. It may not be visible to training APIs. If this is a problem, consider rebuilding the SavedModel after running tf.compat.v1.enable_resource_variables().\n",
      "WARNING:tensorflow:Unable to create a python object for variable <tf.Variable 'bert/encoder/layer_0/attention/self/query/bias:0' shape=(768,) dtype=float32_ref> because it is a reference variable. It may not be visible to training APIs. If this is a problem, consider rebuilding the SavedModel after running tf.compat.v1.enable_resource_variables().\n",
      "WARNING:tensorflow:Some variables could not be lifted out of a loaded function. Please run `sess.run(tf.get_collection(\"saved_model_initializers\"))`to restore these variables.\n",
      "WARNING:tensorflow:Unable to create a python object for variable <tf.Variable 'bert/embeddings/word_embeddings:0' shape=(56141, 768) dtype=float32_ref> because it is a reference variable. It may not be visible to training APIs. If this is a problem, consider rebuilding the SavedModel after running tf.compat.v1.enable_resource_variables().\n",
      "WARNING:tensorflow:Unable to create a python object for variable <tf.Variable 'bert/embeddings/ss_embeddings:0' shape=(45, 768) dtype=float32_ref> because it is a reference variable. It may not be visible to training APIs. If this is a problem, consider rebuilding the SavedModel after running tf.compat.v1.enable_resource_variables().\n",
      "WARNING:tensorflow:Unable to create a python object for variable <tf.Variable 'bert/embeddings/position_embeddings:0' shape=(512, 768) dtype=float32_ref> because it is a reference variable. It may not be visible to training APIs. If this is a problem, consider rebuilding the SavedModel after running tf.compat.v1.enable_resource_variables().\n",
      "WARNING:tensorflow:Unable to create a python object for variable <tf.Variable 'bert/encoder/layer_0/attention/self/query/kernel:0' shape=(768, 768) dtype=float32_ref> because it is a reference variable. It may not be visible to training APIs. If this is a problem, consider rebuilding the SavedModel after running tf.compat.v1.enable_resource_variables().\n",
      "WARNING:tensorflow:Unable to create a python object for variable <tf.Variable 'bert/encoder/layer_0/attention/self/query/bias:0' shape=(768,) dtype=float32_ref> because it is a reference variable. It may not be visible to training APIs. If this is a problem, consider rebuilding the SavedModel after running tf.compat.v1.enable_resource_variables().\n",
      "WARNING:tensorflow:Unable to create a python object for variable <tf.Variable 'bert/embeddings/word_embeddings:0' shape=(56141, 768) dtype=float32_ref> because it is a reference variable. It may not be visible to training APIs. If this is a problem, consider rebuilding the SavedModel after running tf.compat.v1.enable_resource_variables().\n",
      "WARNING:tensorflow:Unable to create a python object for variable <tf.Variable 'bert/embeddings/ss_embeddings:0' shape=(45, 768) dtype=float32_ref> because it is a reference variable. It may not be visible to training APIs. If this is a problem, consider rebuilding the SavedModel after running tf.compat.v1.enable_resource_variables().\n",
      "WARNING:tensorflow:Unable to create a python object for variable <tf.Variable 'bert/embeddings/position_embeddings:0' shape=(512, 768) dtype=float32_ref> because it is a reference variable. It may not be visible to training APIs. If this is a problem, consider rebuilding the SavedModel after running tf.compat.v1.enable_resource_variables().\n",
      "WARNING:tensorflow:Unable to create a python object for variable <tf.Variable 'bert/encoder/layer_0/attention/self/query/kernel:0' shape=(768, 768) dtype=float32_ref> because it is a reference variable. It may not be visible to training APIs. If this is a problem, consider rebuilding the SavedModel after running tf.compat.v1.enable_resource_variables().\n",
      "WARNING:tensorflow:Unable to create a python object for variable <tf.Variable 'bert/encoder/layer_0/attention/self/query/bias:0' shape=(768,) dtype=float32_ref> because it is a reference variable. It may not be visible to training APIs. If this is a problem, consider rebuilding the SavedModel after running tf.compat.v1.enable_resource_variables().\n"
     ]
    },
    {
     "ename": "AttributeError",
     "evalue": "'AutoTrackable' object has no attribute 'signature_def'",
     "output_type": "error",
     "traceback": [
      "\u001b[0;31m---------------------------------------------------------------------------\u001b[0m",
      "\u001b[0;31mAttributeError\u001b[0m                            Traceback (most recent call last)",
      "Input \u001b[0;32mIn [6]\u001b[0m, in \u001b[0;36m<cell line: 1>\u001b[0;34m()\u001b[0m\n\u001b[1;32m      1\u001b[0m \u001b[38;5;28;01mwith\u001b[39;00m tf\u001b[38;5;241m.\u001b[39mSession() \u001b[38;5;28;01mas\u001b[39;00m session:\n\u001b[0;32m----> 2\u001b[0m     sensebert_model \u001b[38;5;241m=\u001b[39m \u001b[43mSenseBert\u001b[49m\u001b[43m(\u001b[49m\u001b[38;5;124;43m\"\u001b[39;49m\u001b[38;5;124;43msensebert-base-uncased\u001b[39;49m\u001b[38;5;124;43m\"\u001b[39;49m\u001b[43m,\u001b[49m\u001b[43m \u001b[49m\u001b[43msession\u001b[49m\u001b[38;5;241;43m=\u001b[39;49m\u001b[43msession\u001b[49m\u001b[43m)\u001b[49m  \u001b[38;5;66;03m# or sensebert-large-uncased\u001b[39;00m\n\u001b[1;32m      3\u001b[0m     input_ids, input_mask \u001b[38;5;241m=\u001b[39m sensebert_model\u001b[38;5;241m.\u001b[39mtokenize([\u001b[38;5;124m\"\u001b[39m\u001b[38;5;124mI went to the store to buy some groceries.\u001b[39m\u001b[38;5;124m\"\u001b[39m, \u001b[38;5;124m\"\u001b[39m\u001b[38;5;124mThe store was closed.\u001b[39m\u001b[38;5;124m\"\u001b[39m])\n\u001b[1;32m      4\u001b[0m     model_outputs \u001b[38;5;241m=\u001b[39m sensebert_model\u001b[38;5;241m.\u001b[39mrun(input_ids, input_mask)\n",
      "File \u001b[0;32m~/projects/ContextualKnowledgeOfLMs/SyntaxTransformation/sensebert/sensebert.py:60\u001b[0m, in \u001b[0;36mSenseBert.__init__\u001b[0;34m(self, name_or_path, max_seq_length, session)\u001b[0m\n\u001b[1;32m     58\u001b[0m \u001b[38;5;28mself\u001b[39m\u001b[38;5;241m.\u001b[39mmax_seq_length \u001b[38;5;241m=\u001b[39m max_seq_length\n\u001b[1;32m     59\u001b[0m \u001b[38;5;28mself\u001b[39m\u001b[38;5;241m.\u001b[39msession \u001b[38;5;241m=\u001b[39m session \u001b[38;5;28;01mif\u001b[39;00m session \u001b[38;5;28;01melse\u001b[39;00m tf\u001b[38;5;241m.\u001b[39mget_default_session()\n\u001b[0;32m---> 60\u001b[0m \u001b[38;5;28mself\u001b[39m\u001b[38;5;241m.\u001b[39mmodel \u001b[38;5;241m=\u001b[39m \u001b[43m_load_model\u001b[49m\u001b[43m(\u001b[49m\u001b[43mname_or_path\u001b[49m\u001b[43m,\u001b[49m\u001b[43m \u001b[49m\u001b[43msession\u001b[49m\u001b[38;5;241;43m=\u001b[39;49m\u001b[38;5;28;43mself\u001b[39;49m\u001b[38;5;241;43m.\u001b[39;49m\u001b[43msession\u001b[49m\u001b[43m)\u001b[49m\n\u001b[1;32m     61\u001b[0m \u001b[38;5;28mself\u001b[39m\u001b[38;5;241m.\u001b[39mtokenizer \u001b[38;5;241m=\u001b[39m load_tokenizer(name_or_path)\n",
      "File \u001b[0;32m~/projects/ContextualKnowledgeOfLMs/SyntaxTransformation/sensebert/sensebert.py:42\u001b[0m, in \u001b[0;36m_load_model\u001b[0;34m(name_or_path, session)\u001b[0m\n\u001b[1;32m     39\u001b[0m     session \u001b[38;5;241m=\u001b[39m tf\u001b[38;5;241m.\u001b[39mget_default_session()\n\u001b[1;32m     41\u001b[0m model \u001b[38;5;241m=\u001b[39m tf\u001b[38;5;241m.\u001b[39msaved_model\u001b[38;5;241m.\u001b[39mload(export_dir\u001b[38;5;241m=\u001b[39m_get_model_path(name_or_path), tags\u001b[38;5;241m=\u001b[39m[tf\u001b[38;5;241m.\u001b[39msaved_model\u001b[38;5;241m.\u001b[39mSERVING])\n\u001b[0;32m---> 42\u001b[0m serve_def \u001b[38;5;241m=\u001b[39m \u001b[43mmodel\u001b[49m\u001b[38;5;241;43m.\u001b[39;49m\u001b[43msignature_def\u001b[49m[tf\u001b[38;5;241m.\u001b[39msaved_model\u001b[38;5;241m.\u001b[39mDEFAULT_SERVING_SIGNATURE_DEF_KEY]\n\u001b[1;32m     44\u001b[0m inputs, outputs \u001b[38;5;241m=\u001b[39m ({key: session\u001b[38;5;241m.\u001b[39mgraph\u001b[38;5;241m.\u001b[39mget_tensor_by_name(info\u001b[38;5;241m.\u001b[39mname) \u001b[38;5;28;01mfor\u001b[39;00m key, info \u001b[38;5;129;01min\u001b[39;00m puts\u001b[38;5;241m.\u001b[39mitems()}\n\u001b[1;32m     45\u001b[0m                    \u001b[38;5;28;01mfor\u001b[39;00m puts \u001b[38;5;129;01min\u001b[39;00m (serve_def\u001b[38;5;241m.\u001b[39minputs, serve_def\u001b[38;5;241m.\u001b[39moutputs))\n\u001b[1;32m     47\u001b[0m \u001b[38;5;28;01mreturn\u001b[39;00m _SenseBertGraph(\n\u001b[1;32m     48\u001b[0m     input_ids\u001b[38;5;241m=\u001b[39minputs[\u001b[38;5;124m'\u001b[39m\u001b[38;5;124minput_ids\u001b[39m\u001b[38;5;124m'\u001b[39m],\n\u001b[1;32m     49\u001b[0m     input_mask\u001b[38;5;241m=\u001b[39minputs[\u001b[38;5;124m'\u001b[39m\u001b[38;5;124minput_mask\u001b[39m\u001b[38;5;124m'\u001b[39m],\n\u001b[0;32m   (...)\u001b[0m\n\u001b[1;32m     52\u001b[0m     mlm_logits\u001b[38;5;241m=\u001b[39moutputs[\u001b[38;5;124m'\u001b[39m\u001b[38;5;124mmasked_lm\u001b[39m\u001b[38;5;124m'\u001b[39m]\n\u001b[1;32m     53\u001b[0m )\n",
      "\u001b[0;31mAttributeError\u001b[0m: 'AutoTrackable' object has no attribute 'signature_def'"
     ]
    }
   ],
   "source": [
    "with tf.Session() as session:\n",
    "    sensebert_model = SenseBert(\"sensebert-base-uncased\", session=session)  # or sensebert-large-uncased\n",
    "    input_ids, input_mask = sensebert_model.tokenize([\"I went to the store to buy some groceries.\", \"The store was closed.\"])\n",
    "    model_outputs = sensebert_model.run(input_ids, input_mask)"
   ]
  },
  {
   "cell_type": "code",
   "execution_count": null,
   "id": "3c5e1b8b",
   "metadata": {},
   "outputs": [],
   "source": [
    "model_outputs"
   ]
  },
  {
   "cell_type": "code",
   "execution_count": null,
   "id": "d82c680e",
   "metadata": {
    "collapsed": false,
    "jupyter": {
     "outputs_hidden": false
    },
    "pycharm": {
     "name": "#%%\n"
    }
   },
   "outputs": [],
   "source": [
    "MASK = \"[MASK]\"\n",
    "KEYS = [\"active\", \"passive\", \"nominalized\"]"
   ]
  },
  {
   "cell_type": "code",
   "execution_count": null,
   "id": "4d4fa3ae",
   "metadata": {
    "collapsed": false,
    "jupyter": {
     "outputs_hidden": false
    },
    "pycharm": {
     "name": "#%%\n"
    }
   },
   "outputs": [],
   "source": [
    "#relations = [\"P19\", \"P36\", \"P101\", \"P103\",\"P106\",\"P108\", \"P178\", \"P1001\"]\n",
    "#relations = [\"P19\", \"P413\", \"P159\", \"P103\"]\n",
    "#relations = [\"P364\"]\n",
    "#relations = nominalized_relations"
   ]
  },
  {
   "cell_type": "code",
   "execution_count": null,
   "id": "ba2ec518",
   "metadata": {
    "collapsed": false,
    "jupyter": {
     "outputs_hidden": false
    },
    "pycharm": {
     "name": "#%%\n"
    }
   },
   "outputs": [],
   "source": [
    "TOP_K = 1"
   ]
  },
  {
   "cell_type": "code",
   "execution_count": null,
   "id": "4a018cd0",
   "metadata": {
    "collapsed": false,
    "jupyter": {
     "outputs_hidden": false
    },
    "pycharm": {
     "name": "#%%\n"
    }
   },
   "outputs": [],
   "source": [
    "#unmasker = pipeline('fill-mask', model='bert-large-uncased-whole-word-masking', top_k=100)\n",
    "unmasker = PipelineCacheWrapper('fill-mask', model='bert-base-cased', top_k=TOP_K)"
   ]
  },
  {
   "cell_type": "code",
   "execution_count": null,
   "id": "e210820f",
   "metadata": {
    "pycharm": {
     "name": "#%%\n"
    }
   },
   "outputs": [],
   "source": [
    "TREx = LamaTRExData(relations = relations)\n",
    "TREx.load()"
   ]
  },
  {
   "cell_type": "code",
   "execution_count": null,
   "id": "291b5010",
   "metadata": {},
   "outputs": [],
   "source": [
    "querier = TypologyQuerier(unmasker, relations, TOP_K, MASK)"
   ]
  },
  {
   "cell_type": "code",
   "execution_count": null,
   "id": "5ddb8659",
   "metadata": {},
   "outputs": [],
   "source": [
    "querier.query(TREx.data)"
   ]
  },
  {
   "cell_type": "code",
   "execution_count": null,
   "id": "c0d43c96",
   "metadata": {},
   "outputs": [],
   "source": [
    "%%time\n",
    "unmasker.save_to_cache()"
   ]
  },
  {
   "cell_type": "code",
   "execution_count": null,
   "id": "af6128ef",
   "metadata": {},
   "outputs": [],
   "source": [
    "querier.print_global_result()"
   ]
  },
  {
   "cell_type": "code",
   "execution_count": null,
   "id": "b7717f69",
   "metadata": {},
   "outputs": [],
   "source": [
    "querier.print_result()"
   ]
  },
  {
   "cell_type": "code",
   "execution_count": null,
   "id": "0a6b7724",
   "metadata": {},
   "outputs": [],
   "source": [
    "querier.print_for_latex()"
   ]
  },
  {
   "cell_type": "code",
   "execution_count": null,
   "id": "b39d605d",
   "metadata": {},
   "outputs": [],
   "source": [
    "TOP_K = 10"
   ]
  },
  {
   "cell_type": "code",
   "execution_count": null,
   "id": "8b354c7f",
   "metadata": {},
   "outputs": [],
   "source": [
    "unmasker = PipelineCacheWrapper('fill-mask', model='bert-base-cased', top_k=TOP_K)"
   ]
  },
  {
   "cell_type": "code",
   "execution_count": null,
   "id": "d43f4d7b",
   "metadata": {},
   "outputs": [],
   "source": [
    "querier.reset()\n",
    "querier.set_top_k(TOP_K)\n",
    "querier.set_model(unmasker)"
   ]
  },
  {
   "cell_type": "code",
   "execution_count": null,
   "id": "440d72ff",
   "metadata": {},
   "outputs": [],
   "source": [
    "querier.query(TREx.data)"
   ]
  },
  {
   "cell_type": "code",
   "execution_count": null,
   "id": "2f9ad3e1",
   "metadata": {},
   "outputs": [],
   "source": [
    "%%time\n",
    "unmasker.save_to_cache()"
   ]
  },
  {
   "cell_type": "code",
   "execution_count": null,
   "id": "65b13427",
   "metadata": {},
   "outputs": [],
   "source": [
    "querier.print_global_result()"
   ]
  },
  {
   "cell_type": "code",
   "execution_count": null,
   "id": "a5d84546",
   "metadata": {},
   "outputs": [],
   "source": [
    "querier.print_result()"
   ]
  },
  {
   "cell_type": "code",
   "execution_count": null,
   "id": "88b61a94",
   "metadata": {},
   "outputs": [],
   "source": [
    "querier.print_for_latex()"
   ]
  },
  {
   "cell_type": "code",
   "execution_count": null,
   "id": "a56e1a5b",
   "metadata": {},
   "outputs": [],
   "source": [
    "TOP_K = 100"
   ]
  },
  {
   "cell_type": "code",
   "execution_count": null,
   "id": "42e7d10d",
   "metadata": {},
   "outputs": [],
   "source": [
    "unmasker = PipelineCacheWrapper('fill-mask', model='bert-base-cased', top_k=TOP_K)"
   ]
  },
  {
   "cell_type": "code",
   "execution_count": null,
   "id": "bf19af52",
   "metadata": {},
   "outputs": [],
   "source": [
    "querier.reset()\n",
    "querier.set_top_k(TOP_K)\n",
    "querier.set_model(unmasker)"
   ]
  },
  {
   "cell_type": "code",
   "execution_count": null,
   "id": "d2d548c8",
   "metadata": {},
   "outputs": [],
   "source": [
    "querier.query(TREx.data)"
   ]
  },
  {
   "cell_type": "code",
   "execution_count": null,
   "id": "2b2d35c9",
   "metadata": {},
   "outputs": [],
   "source": [
    "%%time\n",
    "unmasker.save_to_cache()"
   ]
  },
  {
   "cell_type": "code",
   "execution_count": null,
   "id": "48195eed",
   "metadata": {},
   "outputs": [],
   "source": [
    "querier.print_global_result()"
   ]
  },
  {
   "cell_type": "code",
   "execution_count": null,
   "id": "dc70b354",
   "metadata": {},
   "outputs": [],
   "source": [
    "querier.print_result()"
   ]
  },
  {
   "cell_type": "code",
   "execution_count": null,
   "id": "774150ad",
   "metadata": {},
   "outputs": [],
   "source": [
    "querier.print_for_latex()"
   ]
  }
 ],
 "metadata": {
  "kernelspec": {
   "display_name": "Python 3 (ipykernel)",
   "language": "python",
   "name": "python3"
  },
  "language_info": {
   "codemirror_mode": {
    "name": "ipython",
    "version": 3
   },
   "file_extension": ".py",
   "mimetype": "text/x-python",
   "name": "python",
   "nbconvert_exporter": "python",
   "pygments_lexer": "ipython3",
   "version": "3.8.13"
  }
 },
 "nbformat": 4,
 "nbformat_minor": 5
}
