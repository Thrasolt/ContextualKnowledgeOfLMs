{
 "cells": [
  {
   "cell_type": "code",
   "execution_count": 96,
   "id": "bf2c1721-768d-4ace-85fe-1da89801b485",
   "metadata": {},
   "outputs": [],
   "source": [
    "import spacy\n",
    "from spacy import displacy\n",
    "import networkx as nx"
   ]
  },
  {
   "cell_type": "code",
   "execution_count": 19,
   "id": "d5d1d81c-57d4-4ba1-a5cd-ae1efbcd6823",
   "metadata": {},
   "outputs": [],
   "source": [
    "from relation_templates.templates import get_all_templates, relations, get_templates"
   ]
  },
  {
   "cell_type": "code",
   "execution_count": 28,
   "id": "08438cbd-329f-4148-ae3e-acd9eddb34a6",
   "metadata": {},
   "outputs": [],
   "source": [
    "nlp = spacy.load(\"en_core_web_sm\")"
   ]
  },
  {
   "cell_type": "code",
   "execution_count": 41,
   "id": "adb883a4-d65e-47f0-a537-0bcb83ba9b89",
   "metadata": {},
   "outputs": [],
   "source": [
    "SUBJECT_LABEL = \"subject\"\n",
    "OBJECT_LABEL = \"object\""
   ]
  },
  {
   "cell_type": "code",
   "execution_count": 15,
   "id": "ec076c55-0380-493e-8e72-516bb8c5f5b6",
   "metadata": {},
   "outputs": [],
   "source": [
    "#list(filter(lambda template: template[0] != \"P\",get_all_templates()))"
   ]
  },
  {
   "cell_type": "code",
   "execution_count": 45,
   "id": "453ee8c9-a519-4084-8f2c-7221c2b3a5a3",
   "metadata": {},
   "outputs": [],
   "source": [
    "def find_token_index(tree, correct_token):\n",
    "    for index, token in enumerate(tree):\n",
    "        if str(token)==correct_token:\n",
    "            return index\n",
    "    return -1\n",
    "        "
   ]
  },
  {
   "cell_type": "code",
   "execution_count": 56,
   "id": "7156f4af-732e-459b-8320-19bf6ac346c8",
   "metadata": {},
   "outputs": [],
   "source": [
    "def getDependencies(tree, token):\n",
    "    token_index = find_token_index(tree, SUBJECT_LABEL)\n",
    "    return list(tree[token_index].subtree)"
   ]
  },
  {
   "cell_type": "code",
   "execution_count": 67,
   "id": "c0d6515f-e977-4f40-a93c-0f2f10e1a855",
   "metadata": {},
   "outputs": [],
   "source": [
    "def getIsDependency(tree, target_token):\n",
    "    dependencies = list()\n",
    "    for token in tree:\n",
    "        for sub_token in list(token.subtree):\n",
    "            if str(target_token) == str(sub_token):\n",
    "                dependencies.append(token)\n",
    "                break\n",
    "    return dependencies\n",
    "            "
   ]
  },
  {
   "cell_type": "code",
   "execution_count": 71,
   "id": "7452004e-c759-4e0b-8962-436ff6dd40b1",
   "metadata": {},
   "outputs": [],
   "source": [
    "def tokenDependencyScore(tree, token):\n",
    "        dependencies = getDependencies(tree, token)\n",
    "        is_dependencies = getIsDependency(tree, token)\n",
    "        return (len(dependencies)+len(is_dependencies))/len(tree)"
   ]
  },
  {
   "cell_type": "code",
   "execution_count": 93,
   "id": "9ecf5a50-b9fe-434e-bd12-facf17a18bb8",
   "metadata": {},
   "outputs": [],
   "source": [
    "def newTokenDependencyScore(tree, token):\n",
    "    label_set = {OBJECT_LABEL, SUBJECT_LABEL}\n",
    "    score = 0\n",
    "    for token in tree:\n",
    "        isBoth = label_set <= set(token.subtree)\n",
    "        score += isBoth\n",
    "    return score"
   ]
  },
  {
   "cell_type": "code",
   "execution_count": 112,
   "id": "696c2f80-dca4-424b-9aeb-c2aab5005950",
   "metadata": {},
   "outputs": [],
   "source": [
    "def getGraph(tree):\n",
    "    edges = []\n",
    "    for token in tree:\n",
    "        for child in token.children:\n",
    "            edges.append(('{0}'.format(token.lower_),\n",
    "                          '{0}'.format(child.lower_)))\n",
    "    return nx.Graph(edges)\n",
    "\n",
    "\n",
    "def shortestPathLength(tree, src, target):\n",
    "    graph = getGraph(tree)\n",
    "    try:\n",
    "        return nx.shortest_path_length(graph, src, target)\n",
    "    except:\n",
    "        return 0\n",
    "    \n",
    "    \n",
    "def spTokenDependencyScore(tree, token):\n",
    "    return shortestPathLength(tree, SUBJECT_LABEL, OBJECT_LABEL)/len(tree)\n",
    "    "
   ]
  },
  {
   "cell_type": "code",
   "execution_count": 113,
   "id": "55a109be-0fa9-40f5-8370-31b236374c85",
   "metadata": {},
   "outputs": [],
   "source": [
    "for relation in relations:\n",
    "    #print(relation)\n",
    "    for sentence_type, sentence in get_templates(relation, SUBJECT_LABEL, OBJECT_LABEL).items():\n",
    "        tree = nlp(sentence)\n",
    "        sub_dependencies = getDependencies(tree, SUBJECT_LABEL)\n",
    "        sub_is_dependencies = getIsDependency(tree, SUBJECT_LABEL)\n",
    "        \n",
    "        obj_dependencies = getDependencies(tree, OBJECT_LABEL)\n",
    "        obj_is_dependencies = getIsDependency(tree, OBJECT_LABEL)\n",
    "        \n",
    "        \n",
    "        #print(f\"{sentence_type[:12]}: \\t\\t{SUBJECT_LABEL}: {len(sub_dependencies)}, \\t\\t{OBJECT_LABEL}: {len(obj_dependencies)} \\t\\t\\t\\t {SUBJECT_LABEL} is: {len(sub_is_dependencies)} \\t\\t {OBJECT_LABEL} is: {len(obj_is_dependencies)}\")\n",
    "        "
   ]
  },
  {
   "cell_type": "code",
   "execution_count": 114,
   "id": "06646c41-12de-4b52-8c31-c010b533825a",
   "metadata": {},
   "outputs": [],
   "source": [
    "def createTable(relations, token, score_function=tokenDependencyScore):\n",
    "    relations.sort()\n",
    "    table = [['relations', 'simple', 'compound', 'complex', 'compound-complex']]\n",
    "    for relation in relations:\n",
    "        row = [relation]\n",
    "        for sentence in get_templates(relation, SUBJECT_LABEL, OBJECT_LABEL).values():\n",
    "            tree = nlp(sentence)\n",
    "            score = score_function(tree, OBJECT_LABEL)\n",
    "            row.append(score)\n",
    "        table.append(row)\n",
    "    return table\n",
    "    "
   ]
  },
  {
   "cell_type": "code",
   "execution_count": 116,
   "id": "a3fa867e-9435-40d2-a9d8-c3ff14f95e0d",
   "metadata": {},
   "outputs": [],
   "source": [
    "relations.sort()\n",
    "for relation in relations:\n",
    "    #print(relation)\n",
    "    for sentence_type, sentence in get_templates(relation, SUBJECT_LABEL, OBJECT_LABEL).items():\n",
    "        tree = nlp(sentence)\n",
    "        #print(f\"{sentence_type[:12]}: {spTokenDependencyScore(tree, OBJECT_LABEL)}\")"
   ]
  },
  {
   "cell_type": "code",
   "execution_count": 117,
   "id": "52225765-27d3-4c7f-a68a-530f9118c82c",
   "metadata": {},
   "outputs": [
    {
     "data": {
      "text/plain": [
       "[['relations', 'simple', 'compound', 'complex', 'compound-complex'],\n",
       " ['P1001', 0.625, 0.3, 0.25, 0.11764705882352941],\n",
       " ['P101', 0.625, 0.2, 0.2, 0.15],\n",
       " ['P103', 0.5, 0.18181818181818182, 0.4444444444444444, 0.13333333333333333],\n",
       " ['P106', 0.2857142857142857, 0.2, 0.4444444444444444, 0.125],\n",
       " ['P108', 0.6, 0.2727272727272727, 0.4444444444444444, 0.26666666666666666],\n",
       " ['P127', 0.5, 0.3, 0.5, 0.1875],\n",
       " ['P1303', 0.5, 0.4444444444444444, 0.36363636363636365, 0.26666666666666666],\n",
       " ['P131', 0.5, 0.36363636363636365, 0.3, 0.13333333333333333],\n",
       " ['P136', 0.6, 0.3, 0.16666666666666666, 0.1],\n",
       " ['P1376', 0.5714285714285714, 0.3076923076923077, 0.36363636363636365, 0.25],\n",
       " ['P138', 0.5, 0.07142857142857142, 0.3076923076923077, 0.05263157894736842],\n",
       " ['P140', 0.5555555555555556, 0.2857142857142857, 0.23076923076923078, 0.25],\n",
       " ['P1412', 0.5714285714285714, 0.25, 0.36363636363636365, 0.29411764705882354],\n",
       " ['P159', 0.625, 0.23076923076923078, 0.25, 0.23529411764705882],\n",
       " ['P17', 0.5, 0.4, 0.2727272727272727, 0.1875],\n",
       " ['P176', 0.5, 0.25, 0.5, 0.2],\n",
       " ['P178', 0.5, 0.3, 0.4444444444444444, 0.3076923076923077],\n",
       " ['P19', 0.5, 0.4, 0.4444444444444444, 0.2],\n",
       " ['P190',\n",
       "  0.14285714285714285,\n",
       "  0.07692307692307693,\n",
       "  0.06666666666666667,\n",
       "  0.05263157894736842],\n",
       " ['P20', 0.6, 0.5, 0.5, 0.35294117647058826],\n",
       " ['P264', 0.375, 0.3, 0.2, 0.16666666666666666],\n",
       " ['P27', 0.6, 0.25, 0.18181818181818182, 0.11764705882352941],\n",
       " ['P276', 0.5, 0.36363636363636365, 0.4, 0.26666666666666666],\n",
       " ['P279', 0.5714285714285714, 0.2727272727272727, 0.0, 0.4166666666666667],\n",
       " ['P30', 0.5, 0.4, 0.3, 0.2],\n",
       " ['P31', 0.4, 0.3076923076923077, 0.18181818181818182, 0.1875],\n",
       " ['P36', 0.5714285714285714, 0.18181818181818182, 0.18181818181818182, 0.25],\n",
       " ['P361', 0.6666666666666666, 0.16666666666666666, 0.2, 0.26666666666666666],\n",
       " ['P364', 0.5, 0.23076923076923078, 0.4166666666666667, 0.3157894736842105],\n",
       " ['P37', 0.5, 0.23076923076923078, 0.25, 0.23529411764705882],\n",
       " ['P39', 0.5714285714285714, 0.36363636363636365, 0.4, 0.26666666666666666],\n",
       " ['P407', 0.5, 0.3333333333333333, 0.4166666666666667, 0.3],\n",
       " ['P413', 0.6666666666666666, 0.3, 0.4444444444444444, 0.23529411764705882],\n",
       " ['P449', 0.42857142857142855, 0.3, 0.4, 0.2222222222222222],\n",
       " ['P463', 0.5714285714285714, 0.25, 0.18181818181818182, 0.35714285714285715],\n",
       " ['P47',\n",
       "  0.6666666666666666,\n",
       "  0.3333333333333333,\n",
       "  0.5384615384615384,\n",
       "  0.07692307692307693],\n",
       " ['P495', 0.5, 0.36363636363636365, 0.4, 0.26666666666666666],\n",
       " ['P527', 0.6, 0.4, 0.3, 0.2],\n",
       " ['P530',\n",
       "  0.5714285714285714,\n",
       "  0.35714285714285715,\n",
       "  0.5454545454545454,\n",
       "  0.3888888888888889],\n",
       " ['P740', 0.5, 0.4, 0.5, 0.2857142857142857],\n",
       " ['P937', 0.5714285714285714, 0.2727272727272727, 0.36363636363636365, 0.125]]"
      ]
     },
     "execution_count": 117,
     "metadata": {},
     "output_type": "execute_result"
    }
   ],
   "source": [
    "createTable(relations, OBJECT_LABEL, spTokenDependencyScore)"
   ]
  },
  {
   "cell_type": "code",
   "execution_count": null,
   "id": "caf7c7b2-1b0d-40ca-8e63-a6e5bcda0872",
   "metadata": {},
   "outputs": [],
   "source": []
  }
 ],
 "metadata": {
  "kernelspec": {
   "display_name": "Python 3 (ipykernel)",
   "language": "python",
   "name": "python3"
  },
  "language_info": {
   "codemirror_mode": {
    "name": "ipython",
    "version": 3
   },
   "file_extension": ".py",
   "mimetype": "text/x-python",
   "name": "python",
   "nbconvert_exporter": "python",
   "pygments_lexer": "ipython3",
   "version": "3.9.6"
  }
 },
 "nbformat": 4,
 "nbformat_minor": 5
}
